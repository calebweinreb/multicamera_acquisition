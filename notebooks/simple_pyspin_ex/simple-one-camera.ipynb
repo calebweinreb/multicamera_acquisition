{
 "cells": [
  {
   "cell_type": "code",
   "execution_count": 1,
   "id": "e745526a",
   "metadata": {},
   "outputs": [],
   "source": [
    "# required packages: countdown-timer pyserial numpy av"
   ]
  },
  {
   "cell_type": "code",
   "execution_count": 2,
   "id": "a42e5495",
   "metadata": {
    "scrolled": true
   },
   "outputs": [],
   "source": [
    "#from llpyspin import secondary, primary\n",
    "import numpy as np\n",
    "import matplotlib.pyplot as plt\n",
    "import os, time, serial, glob, struct\n",
    "\n",
    "def packIntAsLong(value):\n",
    "    \"\"\"Packs a python 4 byte integer to an arduino long\"\"\"\n",
    "    return struct.pack('i', value)\n",
    "\n",
    "    \n",
    "def get_timing_params(duration, framerate, exposure_time, buffer=50):\n",
    "    \n",
    "    inv_framerate = int(1e6/framerate)\n",
    "    num_cycles = int(duration * framerate / 2)\n",
    "    \n",
    "    params = (\n",
    "        num_cycles,\n",
    "        exposure_time,\n",
    "        inv_framerate,\n",
    "    )\n",
    "    \n",
    "    return params\n",
    "    "
   ]
  },
  {
   "cell_type": "code",
   "execution_count": 3,
   "id": "58b02250",
   "metadata": {},
   "outputs": [],
   "source": [
    "#num_cycles = number of on off cycles\n",
    "#exposure_time = duration of exposure\n",
    "#inv_framerate,1\n",
    "#phase_shift,\n",
    "#UV_duration,\n",
    "#UV_delay"
   ]
  },
  {
   "cell_type": "code",
   "execution_count": 4,
   "id": "3932d8c8",
   "metadata": {},
   "outputs": [],
   "source": [
    "import numpy as np\n",
    "import subprocess\n",
    "import datetime\n",
    "import multiprocessing as mp\n",
    "import sys, time\n",
    "sys.path.append('simple_pyspin/')\n",
    "from simple_pyspin import Camera\n",
    "import PySpin\n",
    "from countdown import countdown\n",
    "import av"
   ]
  },
  {
   "cell_type": "code",
   "execution_count": 5,
   "id": "142351be",
   "metadata": {},
   "outputs": [],
   "source": [
    "def count_frames(file_name):\n",
    "    with av.open(file_name, 'r') as reader:\n",
    "        return reader.streams.video[0].frames\n",
    "\n",
    "\n",
    "                \n",
    "def write_frames(filename, frames, \n",
    "                 threads=6, fps=30, crf=10,\n",
    "                 pixel_format='gray8', codec='ffv1',\n",
    "                 pipe=None, slices=24, slicecrc=1):\n",
    "    \n",
    "    frame_size = '{0:d}x{1:d}'.format(frames.shape[2], frames.shape[1])\n",
    "    command = ['ffmpeg',\n",
    "               '-y',\n",
    "               '-loglevel', 'fatal',\n",
    "               '-framerate', str(fps),\n",
    "               '-f', 'rawvideo',\n",
    "               '-s', frame_size,\n",
    "               '-pix_fmt', pixel_format,\n",
    "               '-i', '-',\n",
    "               '-an',\n",
    "               '-crf',str(crf),\n",
    "               '-vcodec', codec,\n",
    "               '-preset', 'ultrafast',\n",
    "               '-threads', str(threads),\n",
    "               '-slices', str(slices),\n",
    "               '-slicecrc', str(slicecrc),\n",
    "               '-r', str(fps),\n",
    "               filename]\n",
    "\n",
    "    if not pipe: pipe = subprocess.Popen(command, stdin=subprocess.PIPE, stderr=subprocess.PIPE)\n",
    "    dtype = np.uint16 if pixel_format.startswith('gray16') else np.uint8\n",
    "    for i in range(frames.shape[0]): pipe.stdin.write(frames[i,:,:].astype(dtype).tobytes())\n",
    "    return pipe\n",
    "\n",
    "\n",
    "\n",
    "def get_camera(serial_number=None, exposure_time=2000, gain=15):\n",
    "    \n",
    "    cam = Camera(index=str(serial_number))\n",
    "    cam.init()\n",
    "    \n",
    "    cam.GainAuto = 'Off'\n",
    "    cam.Gain = gain\n",
    "    cam.ExposureAuto = 'Off'\n",
    "    cam.ExposureTime = exposure_time\n",
    "    cam.AcquisitionMode = 'Continuous'\n",
    "    \n",
    "    cam.AcquisitionFrameRateEnable = True\n",
    "    max_fps = cam.get_info('AcquisitionFrameRate')['max']\n",
    "    cam.AcquisitionFrameRate = max_fps\n",
    "    \n",
    "    cam.TriggerMode = 'Off'\n",
    "    cam.TriggerSource = 'Line3'\n",
    "    cam.TriggerOverlap = 'ReadOut'\n",
    "    cam.TriggerSelector = 'FrameStart'\n",
    "    cam.TriggerActivation = 'RisingEdge'\n",
    "    cam.TriggerMode = 'On'\n",
    "    \n",
    "    return cam\n",
    "\n",
    "\n",
    "   \n",
    "        \n",
    "class AcquisitionLoop(mp.Process):\n",
    "    \n",
    "    def __init__(self, write_queue, **camera_params):\n",
    "        super().__init__()\n",
    "\n",
    "        self.ready = mp.Event()\n",
    "        self.primed = mp.Event()\n",
    "        self.stopped = mp.Event()\n",
    "        self.write_queue = write_queue\n",
    "        self.camera_params = camera_params\n",
    "\n",
    "    def stop(self):\n",
    "        self.stopped.set()\n",
    "        \n",
    "    def prime(self):\n",
    "        self.ready.clear()\n",
    "        self.primed.set()\n",
    "        \n",
    "    def run(self):\n",
    "        try:\n",
    "            cam = get_camera(**self.camera_params) \n",
    "        except:\n",
    "            print(f'Failed to get camera {self.camera_params[\"serial_number\"]}')\n",
    "            \n",
    "        self.ready.set()\n",
    "        self.primed.wait()\n",
    "        \n",
    "        cam.start()\n",
    "        self.ready.set()\n",
    "        \n",
    "        while not self.stopped.is_set():\n",
    "            try: \n",
    "                frame = cam.get_array(timeout=1000)\n",
    "                self.write_queue.put(frame)\n",
    "            except PySpin.SpinnakerException: \n",
    "                pass \n",
    "\n",
    "        self.write_queue.put(tuple())\n",
    "        if cam is not None: cam.close()\n",
    "            \n",
    "        \n",
    "        \n",
    "\n",
    "class Writer(mp.Process):\n",
    "    \n",
    "    def __init__(self, queue, file_name, **ffmpeg_options):\n",
    "        super().__init__()\n",
    "        self.pipe = None\n",
    "        self.queue = queue\n",
    "        self.file_name = file_name\n",
    "        self.ffmpeg_options = ffmpeg_options\n",
    "\n",
    "    def run(self):  \n",
    "        while True:\n",
    "            data = self.queue.get()\n",
    "            if len(data)==0: \n",
    "                break\n",
    "            else: \n",
    "                self.append(data)\n",
    "        self.close()\n",
    "            \n",
    "    def append(self, data):\n",
    "        self.pipe = write_frames(\n",
    "            self.file_name, data[None], \n",
    "            pipe=self.pipe, **self.ffmpeg_options)\n",
    "\n",
    "    def close(self):\n",
    "        if self.pipe is not None:\n",
    "            self.pipe.stdin.close()\n"
   ]
  },
  {
   "cell_type": "code",
   "execution_count": 6,
   "id": "cdacf4ec",
   "metadata": {
    "scrolled": true
   },
   "outputs": [
    {
     "name": "stdout",
     "output_type": "stream",
     "text": [
      "(750, 2000, 6666)\n"
     ]
    }
   ],
   "source": [
    "prefix = '../../data/test'\n",
    "\n",
    "duration = 10\n",
    "framerate = 150\n",
    "exposure_time = 2000\n",
    "\n",
    "params = get_timing_params(duration, framerate, exposure_time)\n",
    "print(params)"
   ]
  },
  {
   "cell_type": "code",
   "execution_count": 7,
   "id": "60fee719",
   "metadata": {},
   "outputs": [],
   "source": [
    "serial_nums = {\n",
    "   'top':    22181547,\n",
    "}\n"
   ]
  },
  {
   "cell_type": "code",
   "execution_count": 8,
   "id": "d55959e2",
   "metadata": {
    "scrolled": true
   },
   "outputs": [
    {
     "name": "stdout",
     "output_type": "stream",
     "text": [
      "Initialized top\n"
     ]
    }
   ],
   "source": [
    "# initialize cameras\n",
    "writers = []\n",
    "acquisition_loops = []\n",
    "\n",
    "for k,sn in serial_nums.items():\n",
    "\n",
    "    write_queue = mp.Queue()\n",
    "    \n",
    "    writer = Writer(\n",
    "        write_queue,\n",
    "        f'{prefix}.{k}.avi',\n",
    "        fps=framerate)\n",
    "    \n",
    "    acquisition_loop = AcquisitionLoop(\n",
    "        write_queue, \n",
    "        serial_number=sn, \n",
    "        exposure_time=exposure_time,\n",
    "        gain=15)\n",
    "    \n",
    "    writer.start()\n",
    "    writers.append(writer)\n",
    "    acquisition_loop.start()\n",
    "    acquisition_loop.ready.wait()\n",
    "    acquisition_loops.append(acquisition_loop)\n",
    "    print(f'Initialized {k}')"
   ]
  },
  {
   "cell_type": "code",
   "execution_count": 9,
   "id": "e24a57cc",
   "metadata": {},
   "outputs": [],
   "source": [
    "# prepare acquisition loops\n",
    "for acquisition_loop in acquisition_loops:\n",
    "    acquisition_loop.prime()\n",
    "    acquisition_loop.ready.wait()"
   ]
  },
  {
   "cell_type": "code",
   "execution_count": 10,
   "id": "c1f46f17",
   "metadata": {},
   "outputs": [],
   "source": [
    "#`sudo chmod a+rw /dev/ttyACM0`"
   ]
  },
  {
   "cell_type": "code",
   "execution_count": 13,
   "id": "166071c8",
   "metadata": {},
   "outputs": [],
   "source": [
    "port = glob.glob('/dev/ttyACM*')[0]\n",
    "arduino = serial.Serial(port=port)"
   ]
  },
  {
   "cell_type": "code",
   "execution_count": 14,
   "id": "8836e997",
   "metadata": {},
   "outputs": [
    {
     "data": {
      "text/plain": [
       "(750, 2000, 6666)"
      ]
     },
     "execution_count": 14,
     "metadata": {},
     "output_type": "execute_result"
    }
   ],
   "source": [
    "params"
   ]
  },
  {
   "cell_type": "code",
   "execution_count": 15,
   "id": "b3119075",
   "metadata": {},
   "outputs": [
    {
     "data": {
      "text/plain": [
       "[b'\\xee\\x02\\x00\\x00', b'\\xd0\\x07\\x00\\x00', b'\\n\\x1a\\x00\\x00']"
      ]
     },
     "execution_count": 15,
     "metadata": {},
     "output_type": "execute_result"
    }
   ],
   "source": [
    "[struct.pack('i', value) for value in params]"
   ]
  },
  {
   "cell_type": "code",
   "execution_count": 16,
   "id": "c04d013d",
   "metadata": {},
   "outputs": [
    {
     "data": {
      "text/plain": [
       "12"
      ]
     },
     "execution_count": 16,
     "metadata": {},
     "output_type": "execute_result"
    }
   ],
   "source": [
    "msg = b''.join(map(packIntAsLong,params))\n",
    "arduino.write(msg)"
   ]
  },
  {
   "cell_type": "code",
   "execution_count": 17,
   "id": "7356c0b2",
   "metadata": {},
   "outputs": [
    {
     "data": {
      "text/plain": [
       "12"
      ]
     },
     "execution_count": 17,
     "metadata": {},
     "output_type": "execute_result"
    }
   ],
   "source": [
    "msg = b''.join(map(packIntAsLong,params))\n",
    "arduino.write(msg)"
   ]
  },
  {
   "cell_type": "code",
   "execution_count": 18,
   "id": "165749df",
   "metadata": {},
   "outputs": [
    {
     "name": "stdout",
     "output_type": "stream",
     "text": [
      "Arduino confirmation: Start\n",
      "\n",
      "Recorded:\n",
      "Arduino confirmation: Finished\n"
     ]
    }
   ],
   "source": [
    "start_confirmation = arduino.readline().decode('utf-8').strip('\\r\\n')\n",
    "print('Arduino confirmation:',start_confirmation)\n",
    "\n",
    "if start_confirmation == \"Start\":\n",
    "    print('\\nRecorded:')\n",
    "    countdown(mins=0, secs=duration)\n",
    "    end_confirmation = arduino.readline().decode('utf-8').strip('\\r\\n')\n",
    "    print('Arduino confirmation:',end_confirmation)\n",
    "else:\n",
    "    raise ValueError('Start confirmation not available')"
   ]
  },
  {
   "cell_type": "code",
   "execution_count": 19,
   "id": "f1d51ac9",
   "metadata": {},
   "outputs": [],
   "source": [
    "# end acquisition loops\n",
    "for acquisition_loop in acquisition_loops:\n",
    "    acquisition_loop.stop()\n",
    "    acquisition_loop.join()"
   ]
  },
  {
   "cell_type": "code",
   "execution_count": 20,
   "id": "c59c2745",
   "metadata": {},
   "outputs": [],
   "source": [
    "for writer in writers: writer.join()"
   ]
  },
  {
   "cell_type": "code",
   "execution_count": 21,
   "id": "95fc4fe3",
   "metadata": {},
   "outputs": [
    {
     "name": "stdout",
     "output_type": "stream",
     "text": [
      "Frame counts [751]\n"
     ]
    }
   ],
   "source": [
    "print('Frame counts', [count_frames(f'{prefix}.{k}.avi') for k in serial_nums])"
   ]
  },
  {
   "cell_type": "code",
   "execution_count": 22,
   "id": "edffb965",
   "metadata": {},
   "outputs": [],
   "source": [
    "cam = get_camera(serial_number=sn)"
   ]
  },
  {
   "cell_type": "code",
   "execution_count": 23,
   "id": "be06479c",
   "metadata": {},
   "outputs": [],
   "source": [
    "cam.close()"
   ]
  },
  {
   "cell_type": "code",
   "execution_count": null,
   "id": "f722d47f",
   "metadata": {},
   "outputs": [],
   "source": []
  },
  {
   "cell_type": "code",
   "execution_count": null,
   "id": "d3aa32e5",
   "metadata": {},
   "outputs": [],
   "source": []
  }
 ],
 "metadata": {
  "kernelspec": {
   "display_name": "flir_acq",
   "language": "python",
   "name": "flir_acq"
  },
  "language_info": {
   "codemirror_mode": {
    "name": "ipython",
    "version": 3
   },
   "file_extension": ".py",
   "mimetype": "text/x-python",
   "name": "python",
   "nbconvert_exporter": "python",
   "pygments_lexer": "ipython3",
   "version": "3.10.8"
  }
 },
 "nbformat": 4,
 "nbformat_minor": 5
}
