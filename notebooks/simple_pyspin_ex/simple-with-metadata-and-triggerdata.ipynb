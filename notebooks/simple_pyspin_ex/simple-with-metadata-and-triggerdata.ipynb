{
 "cells": [
  {
   "cell_type": "code",
   "execution_count": 1,
   "id": "e745526a",
   "metadata": {},
   "outputs": [],
   "source": [
    "# required packages: countdown-timer pyserial numpy av"
   ]
  },
  {
   "cell_type": "code",
   "execution_count": 2,
   "id": "4e287f0c",
   "metadata": {},
   "outputs": [],
   "source": [
    "%load_ext autoreload\n",
    "%autoreload 2"
   ]
  },
  {
   "cell_type": "code",
   "execution_count": 3,
   "id": "889140ff",
   "metadata": {},
   "outputs": [
    {
     "name": "stderr",
     "output_type": "stream",
     "text": [
      "/tmp/ipykernel_52644/4014358557.py:13: TqdmExperimentalWarning: Using `tqdm.autonotebook.tqdm` in notebook mode. Use `tqdm.tqdm` instead to force console mode (e.g. in jupyter console)\n",
      "  from tqdm.autonotebook import tqdm\n"
     ]
    }
   ],
   "source": [
    "import numpy as np\n",
    "import subprocess\n",
    "import datetime\n",
    "import multiprocessing as mp\n",
    "import sys, time\n",
    "#sys.path.append('simple_pyspin/')\n",
    "from multicamera_acquisition.simple_pyspin import Camera\n",
    "import PySpin\n",
    "from countdown import countdown\n",
    "import av\n",
    "import csv\n",
    "import warnings\n",
    "from tqdm.autonotebook import tqdm"
   ]
  },
  {
   "cell_type": "code",
   "execution_count": 4,
   "id": "a42e5495",
   "metadata": {
    "scrolled": true
   },
   "outputs": [],
   "source": [
    "# from llpyspin import secondary, primary\n",
    "import numpy as np\n",
    "import matplotlib.pyplot as plt\n",
    "import os, time, serial, glob, struct\n",
    "\n",
    "\n",
    "def packIntAsLong(value):\n",
    "    \"\"\"Packs a python 4 byte integer to an arduino long\"\"\"\n",
    "    return struct.pack(\"i\", value)\n",
    "\n",
    "def get_timing_params(duration, framerate, exposure_time, buffer=50):\n",
    "\n",
    "    inv_framerate = int(1e6 / framerate)\n",
    "    num_cycles = int(duration * framerate / 2)\n",
    "\n",
    "    params = (\n",
    "        num_cycles,\n",
    "        exposure_time,\n",
    "        inv_framerate,\n",
    "    )\n",
    "\n",
    "    return params"
   ]
  },
  {
   "cell_type": "code",
   "execution_count": 5,
   "id": "1ae9cb11",
   "metadata": {},
   "outputs": [],
   "source": [
    "def wait_for_serial_confirmation(\n",
    "    expected_confirmation, wait_duration=5, timeout_duration_s=0.1\n",
    "):\n",
    "    confirmation = None\n",
    "    for i in tqdm(\n",
    "        range(int(recording_duration / timeout_duration_s)),\n",
    "        desc=\"Waiting for {} confirmation\".format(expected_confirmation),\n",
    "    ):\n",
    "        confirmation = arduino.readline().decode(\"utf-8\").strip(\"\\r\\n\")\n",
    "        if confirmation == expected_confirmation:\n",
    "            print(\"Confirmation recieved: {}\".format(confirmation))\n",
    "            break\n",
    "        else:\n",
    "            if len(confirmation) > 0:\n",
    "                warnings.warn(\n",
    "                    'PySerial: \"{}\" confirmation expected, got \"{}\"\". Trying again.'.format(\n",
    "                        expected_confirmation, confirmation\n",
    "                    )\n",
    "                )\n",
    "    if confirmation != expected_confirmation:\n",
    "        raise ValueError(\n",
    "            'Confirmation \"{}\" signal never recieved from Arduino'.format(\n",
    "                expected_confirmation\n",
    "            )\n",
    "        )\n",
    "    return confirmation"
   ]
  },
  {
   "cell_type": "code",
   "execution_count": 6,
   "id": "e88aa97c",
   "metadata": {},
   "outputs": [],
   "source": [
    "def count_frames(file_name):\n",
    "    with av.open(file_name, \"r\") as reader:\n",
    "        return reader.streams.video[0].frames\n",
    "\n",
    "\n",
    "def write_frames(\n",
    "    filename,\n",
    "    frames,\n",
    "    threads=6,\n",
    "    fps=30,\n",
    "    crf=10,\n",
    "    pixel_format=\"gray8\",\n",
    "    codec=\"ffv1\",\n",
    "    pipe=None,\n",
    "    slices=24,\n",
    "    slicecrc=1,\n",
    "):\n",
    "\n",
    "    frame_size = \"{0:d}x{1:d}\".format(frames.shape[2], frames.shape[1])\n",
    "    command = [\n",
    "        \"ffmpeg\",\n",
    "        \"-y\",\n",
    "        \"-loglevel\",\n",
    "        \"fatal\",\n",
    "        \"-framerate\",\n",
    "        str(fps),\n",
    "        \"-f\",\n",
    "        \"rawvideo\",\n",
    "        \"-s\",\n",
    "        frame_size,\n",
    "        \"-pix_fmt\",\n",
    "        pixel_format,\n",
    "        \"-i\",\n",
    "        \"-\",\n",
    "        \"-an\",\n",
    "        \"-crf\",\n",
    "        str(crf),\n",
    "        \"-vcodec\",\n",
    "        codec,\n",
    "        \"-preset\",\n",
    "        \"ultrafast\",\n",
    "        \"-threads\",\n",
    "        str(threads),\n",
    "        \"-slices\",\n",
    "        str(slices),\n",
    "        \"-slicecrc\",\n",
    "        str(slicecrc),\n",
    "        \"-r\",\n",
    "        str(fps),\n",
    "        filename,\n",
    "    ]\n",
    "\n",
    "    if not pipe:\n",
    "        pipe = subprocess.Popen(command, stdin=subprocess.PIPE, stderr=subprocess.PIPE)\n",
    "    dtype = np.uint16 if pixel_format.startswith(\"gray16\") else np.uint8\n",
    "    for i in range(frames.shape[0]):\n",
    "        pipe.stdin.write(frames[i, :, :].astype(dtype).tobytes())\n",
    "    return pipe"
   ]
  },
  {
   "cell_type": "code",
   "execution_count": 7,
   "id": "e3b3bd50",
   "metadata": {},
   "outputs": [],
   "source": [
    "def get_camera(serial_number=None, exposure_time=2000, gain=15):\n",
    "    \n",
    "    cam = Camera(index=str(serial_number))\n",
    "    cam.init()\n",
    "    \n",
    "    cam.GainAuto = 'Off'\n",
    "    cam.Gain = gain\n",
    "    cam.ExposureAuto = 'Off'\n",
    "    cam.ExposureTime = exposure_time\n",
    "    cam.AcquisitionMode = 'Continuous'\n",
    "    \n",
    "    cam.AcquisitionFrameRateEnable = True\n",
    "    max_fps = cam.get_info('AcquisitionFrameRate')['max']\n",
    "    cam.AcquisitionFrameRate = max_fps\n",
    "    \n",
    "    cam.TriggerMode = 'Off'\n",
    "    cam.TriggerSource = 'Line3'\n",
    "    cam.TriggerOverlap = 'ReadOut'\n",
    "    cam.TriggerSelector = 'FrameStart'\n",
    "    cam.TriggerActivation = 'RisingEdge'\n",
    "    cam.TriggerMode = 'On'\n",
    "    \n",
    "    return cam"
   ]
  },
  {
   "cell_type": "code",
   "execution_count": 8,
   "id": "0d15163d",
   "metadata": {},
   "outputs": [],
   "source": [
    "class AcquisitionLoop(mp.Process):\n",
    "    def __init__(self, write_queue, **camera_params):\n",
    "        super().__init__()\n",
    "\n",
    "        self.ready = mp.Event()\n",
    "        self.primed = mp.Event()\n",
    "        self.stopped = mp.Event()\n",
    "        self.write_queue = write_queue\n",
    "        self.camera_params = camera_params\n",
    "\n",
    "    def stop(self):\n",
    "        self.stopped.set()\n",
    "\n",
    "    def prime(self):\n",
    "        self.ready.clear()\n",
    "        self.primed.set()\n",
    "\n",
    "    def run(self):\n",
    "        try:\n",
    "            cam = get_camera(**self.camera_params)\n",
    "        except:\n",
    "            print(f'Failed to get camera {self.camera_params[\"serial_number\"]}')\n",
    "\n",
    "        self.ready.set()\n",
    "        self.primed.wait()\n",
    "\n",
    "        cam.start()\n",
    "        self.ready.set()\n",
    "\n",
    "        current_frame = 0\n",
    "        while not self.stopped.is_set():\n",
    "            try:\n",
    "                data = cam.get_array(timeout=1000, get_timestamp=True)\n",
    "                if len(data) != 0:\n",
    "                    data = data + tuple([current_frame])\n",
    "                self.write_queue.put(data)\n",
    "            except PySpin.SpinnakerException:\n",
    "                pass\n",
    "            current_frame += 1\n",
    "\n",
    "        self.write_queue.put(tuple())\n",
    "        if cam is not None:\n",
    "            cam.close()"
   ]
  },
  {
   "cell_type": "code",
   "execution_count": 9,
   "id": "e8cf6b5b",
   "metadata": {},
   "outputs": [],
   "source": [
    "class Writer(mp.Process):\n",
    "    def __init__(\n",
    "        self,\n",
    "        queue,\n",
    "        video_file_name,\n",
    "        metadata_file_name,\n",
    "        camera_serial,\n",
    "        camera_name,\n",
    "        **ffmpeg_options\n",
    "    ):\n",
    "        super().__init__()\n",
    "        self.pipe = None\n",
    "        self.queue = queue\n",
    "        self.video_file_name = video_file_name\n",
    "        self.ffmpeg_options = ffmpeg_options\n",
    "        self.metadata_file_name = metadata_file_name\n",
    "        self.camera_name = camera_name\n",
    "        self.camera_serial = camera_serial\n",
    "\n",
    "        with open(self.metadata_file_name, \"w\") as metadata_f:\n",
    "            metadata_writer = csv.writer(metadata_f)\n",
    "            metadata_writer.writerow([\"frame_id\", \"frame_timestamp\", \"frame_image_uid\"])\n",
    "\n",
    "    def run(self):\n",
    "        frame_id = 0\n",
    "        with open(self.metadata_file_name, \"a\") as metadata_f:\n",
    "            metadata_writer = csv.writer(metadata_f)\n",
    "            while True:\n",
    "                data = self.queue.get()\n",
    "                if len(data) == 0:\n",
    "                    break\n",
    "                else:\n",
    "                    # get the computer datetime of the frame\n",
    "                    frame_image_uid = str(round(time.time(), 5)).zfill(5)\n",
    "                    img, camera_timestamp, current_frame = data\n",
    "                    # if the frame is corrupted\n",
    "                    if img is None:\n",
    "                        continue\n",
    "                    metadata_writer.writerow(\n",
    "                        [\n",
    "                            current_frame,\n",
    "                            camera_timestamp,\n",
    "                            frame_image_uid,\n",
    "                        ]\n",
    "                    )\n",
    "                    self.append(img)\n",
    "            self.close()\n",
    "\n",
    "    def append(self, data):\n",
    "        self.pipe = write_frames(\n",
    "            self.video_file_name, data[None], pipe=self.pipe, **self.ffmpeg_options\n",
    "        )\n",
    "\n",
    "    def close(self):\n",
    "        if self.pipe is not None:\n",
    "            self.pipe.stdin.close()"
   ]
  },
  {
   "cell_type": "code",
   "execution_count": 10,
   "id": "cdacf4ec",
   "metadata": {
    "scrolled": true
   },
   "outputs": [
    {
     "name": "stdout",
     "output_type": "stream",
     "text": [
      "(150, 2000, 33333)\n"
     ]
    }
   ],
   "source": [
    "prefix = '../../data/test'\n",
    "\n",
    "recording_duration = 10\n",
    "framerate = 30\n",
    "exposure_time = 2000\n",
    "\n",
    "params = get_timing_params(recording_duration, framerate, exposure_time)\n",
    "print(params)"
   ]
  },
  {
   "cell_type": "code",
   "execution_count": 11,
   "id": "a83becf5",
   "metadata": {},
   "outputs": [],
   "source": [
    "#header = ['frame_camera_serial', 'frame_camera_name', 'frame_id', 'frame_timestamp', 'frame_image_uid']\n",
    "#write_csv(csv_file, row= header, mode = 'w')\n",
    "# metadata_writer, metadata_csv_file = write_csv(csv_file, mode='a', return_writer=True)"
   ]
  },
  {
   "cell_type": "code",
   "execution_count": 12,
   "id": "60fee719",
   "metadata": {},
   "outputs": [],
   "source": [
    "serial_nums = {\n",
    "   'top':    22181547,\n",
    "    'side1':  22181612,\n",
    "}"
   ]
  },
  {
   "cell_type": "code",
   "execution_count": 13,
   "id": "d55959e2",
   "metadata": {
    "scrolled": true
   },
   "outputs": [
    {
     "name": "stdout",
     "output_type": "stream",
     "text": [
      "Initialized top\n",
      "Initialized side1\n"
     ]
    }
   ],
   "source": [
    "# initialize cameras\n",
    "writers = []\n",
    "acquisition_loops = []\n",
    "\n",
    "for k,sn in serial_nums.items():\n",
    "    \n",
    "    video_file = f'{prefix}.{k}.{sn}.avi'\n",
    "    metadata_file = f'{prefix}.{k}.{sn}.metadata.csv'\n",
    "    \n",
    "    write_queue = mp.Queue()\n",
    "    \n",
    "    writer = Writer(\n",
    "        write_queue,\n",
    "        video_file_name = video_file,\n",
    "        metadata_file_name = metadata_file,\n",
    "        fps=framerate,\n",
    "        camera_serial = sn,\n",
    "        camera_name = k\n",
    "    )\n",
    "    \n",
    "    acquisition_loop = AcquisitionLoop(\n",
    "        write_queue, \n",
    "        serial_number=sn, \n",
    "        exposure_time=exposure_time,\n",
    "        gain=15\n",
    "    )\n",
    "    \n",
    "    writer.start()\n",
    "    writers.append(writer)\n",
    "    acquisition_loop.start()\n",
    "    acquisition_loop.ready.wait()\n",
    "    acquisition_loops.append(acquisition_loop)\n",
    "    print(f'Initialized {k}')"
   ]
  },
  {
   "cell_type": "code",
   "execution_count": 14,
   "id": "e24a57cc",
   "metadata": {},
   "outputs": [],
   "source": [
    "# prepare acquisition loops\n",
    "for acquisition_loop in acquisition_loops:\n",
    "    acquisition_loop.prime()\n",
    "    acquisition_loop.ready.wait()"
   ]
  },
  {
   "cell_type": "code",
   "execution_count": 15,
   "id": "c1f46f17",
   "metadata": {},
   "outputs": [],
   "source": [
    "#`sudo chmod a+rw /dev/ttyACM0`"
   ]
  },
  {
   "cell_type": "code",
   "execution_count": 16,
   "id": "73fe1675",
   "metadata": {},
   "outputs": [],
   "source": [
    "timeout_duration_s = 0.1"
   ]
  },
  {
   "cell_type": "code",
   "execution_count": 17,
   "id": "f94c45c6",
   "metadata": {},
   "outputs": [
    {
     "data": {
      "text/plain": [
       "['/dev/ttyACM0']"
      ]
     },
     "execution_count": 17,
     "metadata": {},
     "output_type": "execute_result"
    }
   ],
   "source": [
    "glob.glob('/dev/ttyACM*')"
   ]
  },
  {
   "cell_type": "code",
   "execution_count": 18,
   "id": "166071c8",
   "metadata": {},
   "outputs": [],
   "source": [
    "port = glob.glob('/dev/ttyACM*')[0]\n",
    "arduino = serial.Serial(port=port, timeout=timeout_duration_s) # timeout is in seconds\n",
    "#arduino.flushInput()\n",
    "#arduino.flushOutput()"
   ]
  },
  {
   "cell_type": "code",
   "execution_count": 19,
   "id": "a80354d6",
   "metadata": {},
   "outputs": [],
   "source": [
    "# delay recording to allow serial connection to connect\n",
    "time.sleep(2)"
   ]
  },
  {
   "cell_type": "code",
   "execution_count": 20,
   "id": "6eded210",
   "metadata": {
    "scrolled": false
   },
   "outputs": [
    {
     "data": {
      "application/vnd.jupyter.widget-view+json": {
       "model_id": "ad05abd8f276472db53c479dd3fd563a",
       "version_major": 2,
       "version_minor": 0
      },
      "text/plain": [
       "Waiting for Start confirmation:   0%|          | 0/100 [00:00<?, ?it/s]"
      ]
     },
     "metadata": {},
     "output_type": "display_data"
    },
    {
     "name": "stdout",
     "output_type": "stream",
     "text": [
      "Confirmation recieved: Start\n"
     ]
    },
    {
     "data": {
      "application/vnd.jupyter.widget-view+json": {
       "model_id": "1ca1aa0148684656bfc0950371aec679",
       "version_major": 2,
       "version_minor": 0
      },
      "text/plain": [
       "  0%|          | 0/100 [00:00<?, ?it/s]"
      ]
     },
     "metadata": {},
     "output_type": "display_data"
    },
    {
     "name": "stdout",
     "output_type": "stream",
     "text": [
      "Finished\n"
     ]
    }
   ],
   "source": [
    "# Tell the arduino to start recording by sending along the recording parameters\n",
    "msg = b\"\".join(map(packIntAsLong, params))\n",
    "arduino.write(msg)\n",
    "\n",
    "# Run acquision\n",
    "confirmation = wait_for_serial_confirmation(\"Start\")\n",
    "## TODO: recieve channels flipped\n",
    "for i in tqdm(range(int(recording_duration / timeout_duration_s))):\n",
    "    confirmation = arduino.readline().decode(\"utf-8\").strip(\"\\r\\n\")\n",
    "    if len(confirmation) > 0:\n",
    "        print(confirmation)\n",
    "        # if confirmation[:18] == \"new state change: \":\n",
    "        #    states = confirmation[18:].split(',')[:-1]\n",
    "        #    frame_num = confirmation[18:].split(',')[-2]\n",
    "        #    arduino_clock = confirmation[18:].split(',')[-1]\n",
    "\n",
    "        # TODO: save states to triggerdata.csv\n",
    "\n",
    "    if confirmation == \"Finished\":\n",
    "        break\n",
    "if confirmation != \"Finished\":\n",
    "    confirmation = wait_for_serial_confirmation(\"Finished\")\n",
    "\n",
    "# end acquisition loops\n",
    "for acquisition_loop in acquisition_loops:\n",
    "    acquisition_loop.stop()\n",
    "    acquisition_loop.join()\n",
    "\n",
    "# @CALEB: what is the purpose of this?\n",
    "for writer in writers:\n",
    "    writer.join()"
   ]
  },
  {
   "cell_type": "code",
   "execution_count": 22,
   "id": "95fc4fe3",
   "metadata": {},
   "outputs": [
    {
     "name": "stdout",
     "output_type": "stream",
     "text": [
      "Frame counts [150, 150]\n"
     ]
    }
   ],
   "source": [
    "try:\n",
    "    print('Frame counts', [count_frames(f'{prefix}.{k}.{sn}.avi') for k, sn in serial_nums.items()])\n",
    "except:\n",
    "    print('No Frames')"
   ]
  },
  {
   "cell_type": "code",
   "execution_count": null,
   "id": "03dd6a14",
   "metadata": {},
   "outputs": [],
   "source": []
  }
 ],
 "metadata": {
  "kernelspec": {
   "display_name": "flir_acq",
   "language": "python",
   "name": "flir_acq"
  },
  "language_info": {
   "codemirror_mode": {
    "name": "ipython",
    "version": 3
   },
   "file_extension": ".py",
   "mimetype": "text/x-python",
   "name": "python",
   "nbconvert_exporter": "python",
   "pygments_lexer": "ipython3",
   "version": "3.10.8"
  }
 },
 "nbformat": 4,
 "nbformat_minor": 5
}
