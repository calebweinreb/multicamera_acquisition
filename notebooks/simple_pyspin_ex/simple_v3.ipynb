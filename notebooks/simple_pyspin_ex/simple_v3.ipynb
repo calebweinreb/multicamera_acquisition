{
 "cells": [
  {
   "cell_type": "code",
   "execution_count": 1,
   "id": "e745526a",
   "metadata": {},
   "outputs": [],
   "source": [
    "# required packages: countdown-timer pyserial numpy av"
   ]
  },
  {
   "cell_type": "code",
   "execution_count": 2,
   "id": "a42e5495",
   "metadata": {
    "scrolled": true
   },
   "outputs": [],
   "source": [
    "#from llpyspin import secondary, primary\n",
    "import numpy as np\n",
    "import matplotlib.pyplot as plt\n",
    "import os, time, serial, glob, struct\n",
    "\n",
    "def packIntAsLong(value):\n",
    "    \"\"\"Packs a python 4 byte integer to an arduino long\"\"\"\n",
    "    return struct.pack('i', value)\n",
    "\n",
    "\n",
    "def plot_timeline(num_cycles, exposure_time, inv_framerate,\n",
    "                 phase_shift, UV_duration, UV_delay):\n",
    "    \n",
    "    (\n",
    "        NIR_top_on,\n",
    "        NIR_top_off,\n",
    "        NIR_bottom_on,\n",
    "        NIR_bottom_off,\n",
    "        UVA_top_on,\n",
    "        UVA_top_off,\n",
    "        post_UVA_top_trigger_on,\n",
    "        post_UVA_top_trigger_off,\n",
    "        UVA_bottom_on,\n",
    "        UVA_bottom_off,\n",
    "        post_UVA_bottom_trigger_on,\n",
    "        post_UVA_bottom_trigger_off\n",
    "    ) = get_timeline(\n",
    "        num_cycles, exposure_time, inv_framerate,\n",
    "        phase_shift, UV_duration, UV_delay)\n",
    "        \n",
    "    \n",
    "    OFFSET = 1.5\n",
    "    fig,axs = plt.subplots(2,1,sharex=True)\n",
    "\n",
    "    UVA_top_trace = np.zeros(2*inv_framerate)\n",
    "    UVA_top_trace[UVA_top_on:UVA_top_off] = 1\n",
    "    UVA_top_trace = np.roll(np.tile(UVA_top_trace,2), inv_framerate)\n",
    "    \n",
    "    UVA_bottom_trace = np.zeros(2*inv_framerate)\n",
    "    UVA_bottom_trace[UVA_bottom_on:UVA_bottom_off] = 1\n",
    "    UVA_bottom_trace = np.roll(np.tile(UVA_bottom_trace,2), inv_framerate)\n",
    "\n",
    "    NIR_top_trace = np.zeros(2*inv_framerate)\n",
    "    NIR_top_trace[NIR_top_on:NIR_top_off] = 1\n",
    "    NIR_top_trace = np.roll(np.tile(NIR_top_trace,2), inv_framerate)\n",
    "\n",
    "    NIR_bottom_trace = np.zeros(2*inv_framerate)\n",
    "    NIR_bottom_trace[NIR_bottom_on:NIR_bottom_off] = 1\n",
    "    NIR_bottom_trace = np.roll(np.tile(NIR_bottom_trace,2), inv_framerate)\n",
    "    \n",
    "    trigger_top_trace = np.zeros(2*inv_framerate) \n",
    "    trigger_top_trace[post_UVA_top_trigger_on:post_UVA_top_trigger_off] = 1\n",
    "    trigger_top_trace[NIR_top_on:NIR_top_off] = 1\n",
    "    trigger_top_trace = np.roll(np.tile(trigger_top_trace,2), inv_framerate)\n",
    "\n",
    "    trigger_bottom_trace = np.zeros(2*inv_framerate) \n",
    "    trigger_bottom_trace[post_UVA_bottom_trigger_on:post_UVA_bottom_trigger_off] = 1\n",
    "    trigger_bottom_trace[NIR_bottom_on:NIR_bottom_off] = 1\n",
    "    trigger_bottom_trace = np.roll(np.tile(trigger_bottom_trace,2), inv_framerate)\n",
    "\n",
    "    \n",
    "    axs[0].plot(UVA_top_trace+OFFSET, c='violet', linewidth=2, label='UV-A')\n",
    "    axs[1].plot(UVA_bottom_trace+OFFSET, c='violet', linewidth=2, label='UV-A')\n",
    "        \n",
    "    axs[0].plot(NIR_top_trace+OFFSET*2, c='red', linewidth=2, label='NIR')\n",
    "    axs[1].plot(NIR_bottom_trace+OFFSET*2, c='red', linewidth=2, label='NIR')\n",
    "    \n",
    "    axs[0].plot(trigger_top_trace, c='black', linewidth=2, label='Trigger')\n",
    "    axs[1].plot(trigger_bottom_trace, c='black', linewidth=2, label='Trigger')\n",
    "    \n",
    "    axs[0].set_ylabel('Top')\n",
    "    axs[1].set_ylabel('Bottom')\n",
    "    \n",
    "    for ax in axs:\n",
    "        ax.set_yticks([])\n",
    "        ax.legend(loc='upper right')\n",
    "        ax.axvline(x = inv_framerate, linestyle= 'dashed', c='gray')\n",
    "        ax.axvline(x = inv_framerate*3, linestyle= 'dashed', c='gray')\n",
    "        \n",
    "    axs[-1].set_xticks(np.arange(inv_framerate,3*inv_framerate+1,1000))\n",
    "    axs[-1].set_xticklabels(np.arange(0,(2*inv_framerate+1)/1000))\n",
    "    axs[-1].set_xlabel('ms')\n",
    "    axs[-1].set_xlim([0,inv_framerate*4])\n",
    "    fig.set_size_inches((13,4))\n",
    "    \n",
    "    \n",
    "def get_timeline(num_cycles, exposure_time, inv_framerate,\n",
    "                 phase_shift, UV_duration, UV_delay):\n",
    "    \n",
    "    NIR_top_on  = 0;\n",
    "    NIR_top_off = exposure_time;\n",
    "\n",
    "    UVA_top_on  = inv_framerate - UV_delay - UV_duration ;\n",
    "    UVA_top_off = inv_framerate - UV_delay;\n",
    "\n",
    "    post_UVA_top_trigger_on  = inv_framerate;\n",
    "    post_UVA_top_trigger_off = inv_framerate + exposure_time;\n",
    "\n",
    "    NIR_bottom_on  = phase_shift;\n",
    "    NIR_bottom_off = phase_shift + exposure_time;\n",
    "\n",
    "    UVA_bottom_on  = phase_shift + inv_framerate - UV_delay - UV_duration ;\n",
    "    UVA_bottom_off = phase_shift + inv_framerate - UV_delay;\n",
    "\n",
    "    post_UVA_bottom_trigger_on  = phase_shift + inv_framerate;\n",
    "    post_UVA_bottom_trigger_off = phase_shift + inv_framerate + exposure_time;\n",
    "\n",
    "    return (\n",
    "        NIR_top_on,\n",
    "        NIR_top_off,\n",
    "        NIR_bottom_on,\n",
    "        NIR_bottom_off,\n",
    "        UVA_top_on,\n",
    "        UVA_top_off,\n",
    "        post_UVA_top_trigger_on,\n",
    "        post_UVA_top_trigger_off,\n",
    "        UVA_bottom_on,\n",
    "        UVA_bottom_off,\n",
    "        post_UVA_bottom_trigger_on,\n",
    "        post_UVA_bottom_trigger_off)\n",
    "\n",
    "    \n",
    "def check_timeline(*params):\n",
    "    timeline = np.array(get_timeline(*params))\n",
    "    assert (timeline[:-1] <= timeline[1:]).all(), 'Timing is invalid'\n",
    "\n",
    "    \n",
    "def get_timing_params(duration, framerate, exposure_time, \n",
    "                      UV_duration=1000, UV_delay=50, buffer=50):\n",
    "    \n",
    "    inv_framerate = int(1e6/framerate)\n",
    "    phase_shift = exposure_time + UV_duration + UV_delay + buffer\n",
    "    num_cycles = int(duration * framerate / 2)\n",
    "    \n",
    "    params = (\n",
    "        num_cycles,\n",
    "        exposure_time,\n",
    "        inv_framerate,\n",
    "        phase_shift,\n",
    "        UV_duration,\n",
    "        UV_delay\n",
    "    )\n",
    "    \n",
    "    check_timeline(*params)\n",
    "    plot_timeline(*params)\n",
    "    return params\n",
    "    "
   ]
  },
  {
   "cell_type": "code",
   "execution_count": null,
   "id": "fdf9057c",
   "metadata": {},
   "outputs": [],
   "source": [
    "#num_cycles = number of on off cycles\n",
    "#exposure_time = duration of exposure\n",
    "#inv_framerate,\n",
    "#phase_shift,\n",
    "#UV_duration,\n",
    "#UV_delay"
   ]
  },
  {
   "cell_type": "code",
   "execution_count": 3,
   "id": "3932d8c8",
   "metadata": {},
   "outputs": [],
   "source": [
    "import numpy as np\n",
    "import subprocess\n",
    "import datetime\n",
    "import multiprocessing as mp\n",
    "import sys, time\n",
    "sys.path.append('simple_pyspin/')\n",
    "from simple_pyspin import Camera\n",
    "import PySpin\n",
    "from countdown import countdown\n",
    "import av"
   ]
  },
  {
   "cell_type": "code",
   "execution_count": 4,
   "id": "142351be",
   "metadata": {},
   "outputs": [],
   "source": [
    "def count_frames(file_name):\n",
    "    with av.open(file_name, 'r') as reader:\n",
    "        return reader.streams.video[0].frames\n",
    "\n",
    "\n",
    "                \n",
    "def write_frames(filename, frames, \n",
    "                 threads=6, fps=30, crf=10,\n",
    "                 pixel_format='gray8', codec='ffv1',\n",
    "                 pipe=None, slices=24, slicecrc=1):\n",
    "    \n",
    "    frame_size = '{0:d}x{1:d}'.format(frames.shape[2], frames.shape[1])\n",
    "    command = ['ffmpeg',\n",
    "               '-y',\n",
    "               '-loglevel', 'fatal',\n",
    "               '-framerate', str(fps),\n",
    "               '-f', 'rawvideo',\n",
    "               '-s', frame_size,\n",
    "               '-pix_fmt', pixel_format,\n",
    "               '-i', '-',\n",
    "               '-an',\n",
    "               '-crf',str(crf),\n",
    "               '-vcodec', codec,\n",
    "               '-preset', 'ultrafast',\n",
    "               '-threads', str(threads),\n",
    "               '-slices', str(slices),\n",
    "               '-slicecrc', str(slicecrc),\n",
    "               '-r', str(fps),\n",
    "               filename]\n",
    "\n",
    "    if not pipe: pipe = subprocess.Popen(command, stdin=subprocess.PIPE, stderr=subprocess.PIPE)\n",
    "    dtype = np.uint16 if pixel_format.startswith('gray16') else np.uint8\n",
    "    for i in range(frames.shape[0]): pipe.stdin.write(frames[i,:,:].astype(dtype).tobytes())\n",
    "    return pipe\n",
    "\n",
    "\n",
    "\n",
    "def get_camera(serial_number=None, exposure_time=2000, gain=15):\n",
    "    \n",
    "    cam = Camera(index=str(serial_number))\n",
    "    cam.init()\n",
    "    \n",
    "    cam.GainAuto = 'Off'\n",
    "    cam.Gain = gain\n",
    "    cam.ExposureAuto = 'Off'\n",
    "    cam.ExposureTime = exposure_time\n",
    "    cam.AcquisitionMode = 'Continuous'\n",
    "    \n",
    "    cam.AcquisitionFrameRateEnable = True\n",
    "    max_fps = cam.get_info('AcquisitionFrameRate')['max']\n",
    "    cam.AcquisitionFrameRate = max_fps\n",
    "    \n",
    "    cam.TriggerMode = 'Off'\n",
    "    cam.TriggerSource = 'Line3'\n",
    "    cam.TriggerOverlap = 'ReadOut'\n",
    "    cam.TriggerSelector = 'FrameStart'\n",
    "    cam.TriggerActivation = 'RisingEdge'\n",
    "    cam.TriggerMode = 'On'\n",
    "    \n",
    "    return cam\n",
    "\n",
    "\n",
    "   \n",
    "        \n",
    "class AcquisitionLoop(mp.Process):\n",
    "    \n",
    "    def __init__(self, write_queue, **camera_params):\n",
    "        super().__init__()\n",
    "\n",
    "        self.ready = mp.Event()\n",
    "        self.primed = mp.Event()\n",
    "        self.stopped = mp.Event()\n",
    "        self.write_queue = write_queue\n",
    "        self.camera_params = camera_params\n",
    "\n",
    "    def stop(self):\n",
    "        self.stopped.set()\n",
    "        \n",
    "    def prime(self):\n",
    "        self.ready.clear()\n",
    "        self.primed.set()\n",
    "        \n",
    "    def run(self):\n",
    "        try:\n",
    "            cam = get_camera(**self.camera_params) \n",
    "        except:\n",
    "            print(f'Failed to get camera {self.camera_params[\"serial_number\"]}')\n",
    "            \n",
    "        self.ready.set()\n",
    "        self.primed.wait()\n",
    "        \n",
    "        cam.start()\n",
    "        self.ready.set()\n",
    "        \n",
    "        while not self.stopped.is_set():\n",
    "            try: \n",
    "                frame = cam.get_array(timeout=1000)\n",
    "                self.write_queue.put(frame)\n",
    "            except PySpin.SpinnakerException: \n",
    "                pass \n",
    "\n",
    "        self.write_queue.put(tuple())\n",
    "        if cam is not None: cam.close()\n",
    "            \n",
    "        \n",
    "        \n",
    "\n",
    "class Writer(mp.Process):\n",
    "    \n",
    "    def __init__(self, queue, file_name, **ffmpeg_options):\n",
    "        super().__init__()\n",
    "        self.pipe = None\n",
    "        self.queue = queue\n",
    "        self.file_name = file_name\n",
    "        self.ffmpeg_options = ffmpeg_options\n",
    "\n",
    "    def run(self):  \n",
    "        while True:\n",
    "            data = self.queue.get()\n",
    "            if len(data)==0: \n",
    "                break\n",
    "            else: \n",
    "                self.append(data)\n",
    "        self.close()\n",
    "            \n",
    "    def append(self, data):\n",
    "        self.pipe = write_frames(\n",
    "            self.file_name, data[None], \n",
    "            pipe=self.pipe, **self.ffmpeg_options)\n",
    "\n",
    "    def close(self):\n",
    "        if self.pipe is not None:\n",
    "            self.pipe.stdin.close()\n"
   ]
  },
  {
   "cell_type": "code",
   "execution_count": 15,
   "id": "cdacf4ec",
   "metadata": {
    "scrolled": true
   },
   "outputs": [
    {
     "data": {
      "image/png": "[encoded data removed]",
      "text/plain": [
       "<Figure size 1300x400 with 2 Axes>"
      ]
     },
     "metadata": {},
     "output_type": "display_data"
    }
   ],
   "source": [
    "prefix = 'data/test'\n",
    "\n",
    "duration = 3\n",
    "framerate = 150\n",
    "exposure_time = 2000\n",
    "\n",
    "params = get_timing_params(duration, framerate, exposure_time)"
   ]
  },
  {
   "cell_type": "code",
   "execution_count": null,
   "id": "551e6744",
   "metadata": {},
   "outputs": [],
   "source": [
    "#num_cycles,\n",
    "#exposure_time,\n",
    "#inv_framerate,\n",
    "#phase_shift,\n",
    "#UV_duration,\n",
    "#UV_delay"
   ]
  },
  {
   "cell_type": "code",
   "execution_count": 22,
   "id": "2682ca43",
   "metadata": {},
   "outputs": [
    {
     "data": {
      "text/plain": [
       "(225, 2000, 6666, 3100, 1000, 50)"
      ]
     },
     "execution_count": 22,
     "metadata": {},
     "output_type": "execute_result"
    }
   ],
   "source": [
    "params"
   ]
  },
  {
   "cell_type": "code",
   "execution_count": 6,
   "id": "60fee719",
   "metadata": {},
   "outputs": [],
   "source": [
    "serial_nums = {\n",
    "   'top':    22181547,\n",
    "   #'bottom': 22181541,\n",
    "   'side1':  22181612,\n",
    "   #'side2':  22181547,\n",
    "   #'side3':  22181546,\n",
    "   #'side4':  22181618\n",
    "}\n"
   ]
  },
  {
   "cell_type": "code",
   "execution_count": 7,
   "id": "d55959e2",
   "metadata": {
    "scrolled": true
   },
   "outputs": [
    {
     "name": "stdout",
     "output_type": "stream",
     "text": [
      "Initialized top\n",
      "Initialized side1\n"
     ]
    }
   ],
   "source": [
    "# initialize cameras\n",
    "writers = []\n",
    "acquisition_loops = []\n",
    "\n",
    "for k,sn in serial_nums.items():\n",
    "\n",
    "    write_queue = mp.Queue()\n",
    "    \n",
    "    writer = Writer(\n",
    "        write_queue,\n",
    "        f'{prefix}.{k}.avi',\n",
    "        fps=framerate)\n",
    "    \n",
    "    acquisition_loop = AcquisitionLoop(\n",
    "        write_queue, \n",
    "        serial_number=sn, \n",
    "        exposure_time=exposure_time,\n",
    "        gain=15)\n",
    "    \n",
    "    writer.start()\n",
    "    writers.append(writer)\n",
    "    acquisition_loop.start()\n",
    "    acquisition_loop.ready.wait()\n",
    "    acquisition_loops.append(acquisition_loop)\n",
    "    print(f'Initialized {k}')"
   ]
  },
  {
   "cell_type": "code",
   "execution_count": 8,
   "id": "e24a57cc",
   "metadata": {},
   "outputs": [],
   "source": [
    "# prepare acquisition loops\n",
    "for acquisition_loop in acquisition_loops:\n",
    "    acquisition_loop.prime()\n",
    "    acquisition_loop.ready.wait()"
   ]
  },
  {
   "cell_type": "code",
   "execution_count": 9,
   "id": "c1f46f17",
   "metadata": {},
   "outputs": [],
   "source": [
    "#`sudo chmod a+rw /dev/ttyACM0`"
   ]
  },
  {
   "cell_type": "code",
   "execution_count": 10,
   "id": "281436b0",
   "metadata": {},
   "outputs": [
    {
     "data": {
      "text/plain": [
       "['/dev/ttyACM0']"
      ]
     },
     "execution_count": 10,
     "metadata": {},
     "output_type": "execute_result"
    }
   ],
   "source": [
    "glob.glob('/dev/ttyACM*')"
   ]
  },
  {
   "cell_type": "code",
   "execution_count": 11,
   "id": "166071c8",
   "metadata": {},
   "outputs": [],
   "source": [
    "port = glob.glob('/dev/ttyACM*')[0]\n",
    "arduino = serial.Serial(port=port)"
   ]
  },
  {
   "cell_type": "code",
   "execution_count": 12,
   "id": "daa8ea3c",
   "metadata": {},
   "outputs": [
    {
     "data": {
      "text/plain": [
       "'/dev/ttyACM0'"
      ]
     },
     "execution_count": 12,
     "metadata": {},
     "output_type": "execute_result"
    }
   ],
   "source": [
    "port"
   ]
  },
  {
   "cell_type": "code",
   "execution_count": 13,
   "id": "7862435a",
   "metadata": {
    "scrolled": true
   },
   "outputs": [
    {
     "data": {
      "text/plain": [
       "24"
      ]
     },
     "execution_count": 13,
     "metadata": {},
     "output_type": "execute_result"
    }
   ],
   "source": [
    "msg = b''.join(map(packIntAsLong,params))\n",
    "arduino.write(msg)"
   ]
  },
  {
   "cell_type": "code",
   "execution_count": 14,
   "id": "eb5ceae7",
   "metadata": {},
   "outputs": [
    {
     "data": {
      "text/plain": [
       "Serial<id=0x7f1dfb2b87c0, open=True>(port='/dev/ttyACM0', baudrate=9600, bytesize=8, parity='N', stopbits=1, timeout=None, xonxoff=False, rtscts=False, dsrdtr=False)"
      ]
     },
     "execution_count": 14,
     "metadata": {},
     "output_type": "execute_result"
    }
   ],
   "source": [
    "arduino"
   ]
  },
  {
   "cell_type": "code",
   "execution_count": 16,
   "id": "01b3ef61",
   "metadata": {},
   "outputs": [
    {
     "name": "stdout",
     "output_type": "stream",
     "text": [
      "\n",
      "Recorded:\n",
      "Arduino confirmation: 1\n"
     ]
    }
   ],
   "source": [
    "print('\\nRecorded:')\n",
    "countdown(mins=0, secs=duration)\n",
    "confirmation = arduino.readline().decode('utf-8').strip('\\r\\n')\n",
    "print('Arduino confirmation:',confirmation)"
   ]
  },
  {
   "cell_type": "code",
   "execution_count": 17,
   "id": "f1d51ac9",
   "metadata": {},
   "outputs": [],
   "source": [
    "for acquisition_loop in acquisition_loops:\n",
    "    acquisition_loop.stop()\n",
    "    acquisition_loop.join()"
   ]
  },
  {
   "cell_type": "code",
   "execution_count": 18,
   "id": "c59c2745",
   "metadata": {},
   "outputs": [],
   "source": [
    "for writer in writers: writer.join()"
   ]
  },
  {
   "cell_type": "code",
   "execution_count": 19,
   "id": "95fc4fe3",
   "metadata": {},
   "outputs": [
    {
     "name": "stdout",
     "output_type": "stream",
     "text": [
      "Frame counts [1501, 1501]\n"
     ]
    }
   ],
   "source": [
    "print('Frame counts', [count_frames(f'{prefix}.{k}.avi') for k in serial_nums])"
   ]
  },
  {
   "cell_type": "code",
   "execution_count": 20,
   "id": "edffb965",
   "metadata": {},
   "outputs": [],
   "source": [
    "cam = get_camera(serial_number=sn)"
   ]
  },
  {
   "cell_type": "code",
   "execution_count": 21,
   "id": "be06479c",
   "metadata": {},
   "outputs": [],
   "source": [
    "cam.close()"
   ]
  },
  {
   "cell_type": "code",
   "execution_count": null,
   "id": "e09d960e",
   "metadata": {},
   "outputs": [],
   "source": []
  }
 ],
 "metadata": {
  "kernelspec": {
   "display_name": "flir_acq",
   "language": "python",
   "name": "flir_acq"
  },
  "language_info": {
   "codemirror_mode": {
    "name": "ipython",
    "version": 3
   },
   "file_extension": ".py",
   "mimetype": "text/x-python",
   "name": "python",
   "nbconvert_exporter": "python",
   "pygments_lexer": "ipython3",
   "version": "3.10.8"
  }
 },
 "nbformat": 4,
 "nbformat_minor": 5
}
