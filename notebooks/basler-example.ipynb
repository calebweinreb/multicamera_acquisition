{
 "cells": [
  {
   "cell_type": "code",
   "execution_count": 1,
   "id": "1919c3af",
   "metadata": {},
   "outputs": [],
   "source": [
    "from tqdm import tqdm"
   ]
  },
  {
   "cell_type": "code",
   "execution_count": 2,
   "id": "eae8f8a5",
   "metadata": {},
   "outputs": [],
   "source": [
    "%load_ext autoreload\n",
    "%autoreload 2"
   ]
  },
  {
   "cell_type": "code",
   "execution_count": 3,
   "id": "a58f764a",
   "metadata": {},
   "outputs": [],
   "source": [
    "import logging\n",
    "import sys\n",
    "logging.basicConfig(stream=sys.stdout, level=logging.DEBUG)"
   ]
  },
  {
   "cell_type": "code",
   "execution_count": 4,
   "id": "4a498333",
   "metadata": {},
   "outputs": [
    {
     "name": "stderr",
     "output_type": "stream",
     "text": [
      "/home/dattalab/code/multicamera_acquisition/multicamera_acquisition/interfaces/arduino.py:4: TqdmExperimentalWarning: Using `tqdm.autonotebook.tqdm` in notebook mode. Use `tqdm.tqdm` instead to force console mode (e.g. in jupyter console)\n",
      "  from tqdm.autonotebook import tqdm\n"
     ]
    }
   ],
   "source": [
    "from multicamera_acquisition.paths import DATA_DIR\n",
    "from multicamera_acquisition.acquisition import acquire_video"
   ]
  },
  {
   "cell_type": "code",
   "execution_count": 5,
   "id": "00e56b61",
   "metadata": {},
   "outputs": [],
   "source": [
    "save_location = DATA_DIR / 'tests'"
   ]
  },
  {
   "cell_type": "code",
   "execution_count": 6,
   "id": "59c507e5",
   "metadata": {},
   "outputs": [],
   "source": [
    "camera_list = [\n",
    "    {'name': 'top', 'serial': 24535665, 'brand':'basler', 'gain': 12, \"display\":True},\n",
    "    {'name': 'side1', 'serial': 24548223, 'brand':'basler', 'gain': 12, \"display\":False},\n",
    "]"
   ]
  },
  {
   "cell_type": "code",
   "execution_count": 7,
   "id": "d8d71f3d",
   "metadata": {
    "scrolled": false
   },
   "outputs": [
    {
     "name": "stdout",
     "output_type": "stream",
     "text": [
      "INFO:root:Checking cameras...\n",
      "INFO:root:Initializing cameras...\n",
      "INFO:root:Camera top...\n",
      "INFO:root:Initialized top (24535665)\n",
      "INFO:root:Camera side1...\n",
      "INFO:root:Initialized side1 (24548223)\n",
      "INFO:root:Preparing acquisition loops\n",
      "INFO:root:Initializing Arduino...\n"
     ]
    },
    {
     "name": "stderr",
     "output_type": "stream",
     "text": [
      "/home/dattalab/code/multicamera_acquisition/multicamera_acquisition/acquisition.py:105: UserWarning: Dropped 0 frame on #24535665: \n",
      "TimeoutException\n",
      "  warnings.warn(\n",
      "/home/dattalab/code/multicamera_acquisition/multicamera_acquisition/acquisition.py:105: UserWarning: Dropped 0 frame on #24548223: \n",
      "TimeoutException\n",
      "  warnings.warn(\n"
     ]
    },
    {
     "name": "stdout",
     "output_type": "stream",
     "text": [
      "INFO:root:Starting Acquisition...\n",
      "Confirmation recieved: Start\n"
     ]
    },
    {
     "name": "stderr",
     "output_type": "stream",
     "text": [
      "\r",
      "recording progress (s):   0%|                                                          | 0/10 [00:00<?, ?it/s]"
     ]
    },
    {
     "name": "stdout",
     "output_type": "stream",
     "text": [
      "input: 1,0,0,0,1,112\n",
      "input: 1,0,0,0,1,112\n"
     ]
    },
    {
     "name": "stderr",
     "output_type": "stream",
     "text": [
      "recording progress (s):  90%|█████████████████████████████████████████████     | 9/10 [00:09<00:01,  1.11s/it]"
     ]
    },
    {
     "name": "stdout",
     "output_type": "stream",
     "text": [
      "Finished\n",
      "Finished\n",
      "End Acquisition\n",
      "INFO:root:Closing\n"
     ]
    },
    {
     "name": "stderr",
     "output_type": "stream",
     "text": [
      "\n",
      "/home/dattalab/code/multicamera_acquisition/multicamera_acquisition/acquisition.py:105: UserWarning: Dropped 301 frame on #24535665: \n",
      "TimeoutException\n",
      "  warnings.warn(\n",
      "/home/dattalab/code/multicamera_acquisition/multicamera_acquisition/acquisition.py:105: UserWarning: Dropped 301 frame on #24548223: \n",
      "TimeoutException\n",
      "  warnings.warn(\n",
      "/home/dattalab/code/multicamera_acquisition/multicamera_acquisition/acquisition.py:105: UserWarning: Dropped 302 frame on #24548223: \n",
      "TimeoutException\n",
      "  warnings.warn(\n"
     ]
    },
    {
     "name": "stdout",
     "output_type": "stream",
     "text": [
      "Frames (top): 300\n",
      "Frames (side1): 300\n"
     ]
    }
   ],
   "source": [
    "acquire_video(\n",
    "    save_location,\n",
    "    camera_list,\n",
    "    framerate = 30,\n",
    "    exposure_time = 2000,\n",
    "    recording_duration_s = 10,\n",
    "    serial_timeout_duration_s=0.1,\n",
    "    overwrite=False,\n",
    "    append_datetime=True,\n",
    ")"
   ]
  }
 ],
 "metadata": {
  "kernelspec": {
   "display_name": "flir_acq",
   "language": "python",
   "name": "flir_acq"
  },
  "language_info": {
   "codemirror_mode": {
    "name": "ipython",
    "version": 3
   },
   "file_extension": ".py",
   "mimetype": "text/x-python",
   "name": "python",
   "nbconvert_exporter": "python",
   "pygments_lexer": "ipython3",
   "version": "3.10.8"
  }
 },
 "nbformat": 4,
 "nbformat_minor": 5
}
