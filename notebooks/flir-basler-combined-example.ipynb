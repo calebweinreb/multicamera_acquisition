{
 "cells": [
  {
   "cell_type": "code",
   "execution_count": 1,
   "id": "eae8f8a5",
   "metadata": {},
   "outputs": [],
   "source": [
    "%load_ext autoreload\n",
    "%autoreload 2"
   ]
  },
  {
   "cell_type": "code",
   "execution_count": 2,
   "id": "4a498333",
   "metadata": {
    "scrolled": false
   },
   "outputs": [
    {
     "name": "stderr",
     "output_type": "stream",
     "text": [
      "/home/dattalab/code/multicamera_acquisition/multicamera_acquisition/interfaces/arduino.py:4: TqdmExperimentalWarning: Using `tqdm.autonotebook.tqdm` in notebook mode. Use `tqdm.tqdm` instead to force console mode (e.g. in jupyter console)\n",
      "  from tqdm.autonotebook import tqdm\n"
     ]
    }
   ],
   "source": [
    "from multicamera_acquisition.paths import DATA_DIR\n",
    "from multicamera_acquisition.acquisition import acquire_video"
   ]
  },
  {
   "cell_type": "code",
   "execution_count": 3,
   "id": "00e56b61",
   "metadata": {},
   "outputs": [],
   "source": [
    "save_location = DATA_DIR / 'tests'"
   ]
  },
  {
   "cell_type": "code",
   "execution_count": 4,
   "id": "59c507e5",
   "metadata": {},
   "outputs": [],
   "source": [
    "camera_list = [\n",
    "    {'name': 'top', 'serial': 24535665, 'brand':'basler', 'gain': 12, 'display': False},\n",
    "    {'name': 'side1', 'serial': 24548223, 'brand':'basler', 'gain': 12, 'display': False},\n",
    "    {'name': 'side2', 'serial': 22181547, 'brand':'flir', 'gain': 12, 'display': False},\n",
    "    {'name': 'side3', 'serial': 22181612, 'brand':'flir', 'gain': 12, 'display': False},\n",
    "]"
   ]
  },
  {
   "cell_type": "code",
   "execution_count": 5,
   "id": "d8d71f3d",
   "metadata": {
    "scrolled": true
   },
   "outputs": [
    {
     "name": "stderr",
     "output_type": "stream",
     "text": [
      "/home/dattalab/code/multicamera_acquisition/multicamera_acquisition/acquisition.py:177: UserWarning: A bug in the code requies Basler cameras to be initialized after Flir cameras. Rearranging camera order.\n",
      "                \n",
      "  warnings.warn(\n",
      "/home/dattalab/code/multicamera_acquisition/multicamera_acquisition/acquisition.py:81: UserWarning: Dropped 0 frame on #22181612: \n",
      "SpinnakerException\n",
      "  warnings.warn(\n",
      "/home/dattalab/code/multicamera_acquisition/multicamera_acquisition/acquisition.py:81: UserWarning: Dropped 0 frame on #22181547: \n",
      "SpinnakerException\n",
      "  warnings.warn(\n",
      "/home/dattalab/code/multicamera_acquisition/multicamera_acquisition/acquisition.py:81: UserWarning: Dropped 0 frame on #24548223: \n",
      "TimeoutException\n",
      "  warnings.warn(\n",
      "/home/dattalab/code/multicamera_acquisition/multicamera_acquisition/acquisition.py:81: UserWarning: Dropped 0 frame on #24535665: \n",
      "TimeoutException\n",
      "  warnings.warn(\n"
     ]
    },
    {
     "name": "stdout",
     "output_type": "stream",
     "text": [
      "Confirmation recieved: Start\n"
     ]
    },
    {
     "name": "stderr",
     "output_type": "stream",
     "text": [
      "\r\n",
      "recording progress (s):   0%|                                                          | 0/10 [00:00<?, ?it/s]"
     ]
    },
    {
     "name": "stdout",
     "output_type": "stream",
     "text": [
      "input: 1,0,0,0,1,111\n",
      "input: 1,0,0,0,1,111\n"
     ]
    },
    {
     "name": "stderr",
     "output_type": "stream",
     "text": [
      "recording progress (s):  90%|█████████████████████████████████████████████     | 9/10 [00:09<00:01,  1.11s/it]"
     ]
    },
    {
     "name": "stdout",
     "output_type": "stream",
     "text": [
      "Finished\n",
      "Finished\n",
      "End Acquisition\n"
     ]
    },
    {
     "name": "stderr",
     "output_type": "stream",
     "text": [
      "\n",
      "/home/dattalab/code/multicamera_acquisition/multicamera_acquisition/acquisition.py:81: UserWarning: Dropped 301 frame on #22181547: \n",
      "SpinnakerException\n",
      "  warnings.warn(\n",
      "/home/dattalab/code/multicamera_acquisition/multicamera_acquisition/acquisition.py:81: UserWarning: Dropped 301 frame on #22181612: \n",
      "SpinnakerException\n",
      "  warnings.warn(\n",
      "/home/dattalab/code/multicamera_acquisition/multicamera_acquisition/acquisition.py:81: UserWarning: Dropped 301 frame on #24548223: \n",
      "TimeoutException\n",
      "  warnings.warn(\n",
      "/home/dattalab/code/multicamera_acquisition/multicamera_acquisition/acquisition.py:81: UserWarning: Dropped 301 frame on #24535665: \n",
      "TimeoutException\n",
      "  warnings.warn(\n",
      "/home/dattalab/code/multicamera_acquisition/multicamera_acquisition/acquisition.py:81: UserWarning: Dropped 302 frame on #24535665: \n",
      "TimeoutException\n",
      "  warnings.warn(\n",
      "/home/dattalab/code/multicamera_acquisition/multicamera_acquisition/acquisition.py:81: UserWarning: Dropped 302 frame on #24548223: \n",
      "TimeoutException\n",
      "  warnings.warn(\n",
      "/home/dattalab/code/multicamera_acquisition/multicamera_acquisition/acquisition.py:81: UserWarning: Dropped 302 frame on #22181547: \n",
      "SpinnakerException\n",
      "  warnings.warn(\n",
      "/home/dattalab/code/multicamera_acquisition/multicamera_acquisition/acquisition.py:81: UserWarning: Dropped 303 frame on #24535665: \n",
      "TimeoutException\n",
      "  warnings.warn(\n",
      "/home/dattalab/code/multicamera_acquisition/multicamera_acquisition/acquisition.py:81: UserWarning: Dropped 303 frame on #24548223: \n",
      "TimeoutException\n",
      "  warnings.warn(\n",
      "/home/dattalab/code/multicamera_acquisition/multicamera_acquisition/acquisition.py:81: UserWarning: Dropped 304 frame on #24535665: \n",
      "TimeoutException\n",
      "  warnings.warn(\n",
      "Process AcquisitionLoop-9:\n",
      "Traceback (most recent call last):\n",
      "  File \"/home/dattalab/anaconda3/envs/flir_acq/lib/python3.10/multiprocessing/process.py\", line 317, in _bootstrap\n",
      "    util._exit_function()\n",
      "  File \"/home/dattalab/anaconda3/envs/flir_acq/lib/python3.10/multiprocessing/util.py\", line 360, in _exit_function\n",
      "    _run_finalizers()\n",
      "  File \"/home/dattalab/anaconda3/envs/flir_acq/lib/python3.10/multiprocessing/util.py\", line 300, in _run_finalizers\n",
      "    finalizer()\n",
      "  File \"/home/dattalab/anaconda3/envs/flir_acq/lib/python3.10/multiprocessing/util.py\", line 224, in __call__\n",
      "    res = self._callback(*self._args, **self._kwargs)\n",
      "  File \"/home/dattalab/anaconda3/envs/flir_acq/lib/python3.10/multiprocessing/queues.py\", line 199, in _finalize_join\n",
      "    thread.join()\n",
      "  File \"/home/dattalab/anaconda3/envs/flir_acq/lib/python3.10/threading.py\", line 1096, in join\n",
      "    self._wait_for_tstate_lock()\n",
      "  File \"/home/dattalab/anaconda3/envs/flir_acq/lib/python3.10/threading.py\", line 1116, in _wait_for_tstate_lock\n",
      "    if lock.acquire(block, timeout):\n",
      "KeyboardInterrupt\n"
     ]
    },
    {
     "ename": "KeyboardInterrupt",
     "evalue": "",
     "output_type": "error",
     "traceback": [
      "\u001b[0;31m---------------------------------------------------------------------------\u001b[0m",
      "\u001b[0;31mKeyboardInterrupt\u001b[0m                         Traceback (most recent call last)",
      "Cell \u001b[0;32mIn[5], line 1\u001b[0m\n\u001b[0;32m----> 1\u001b[0m \u001b[43macquire_video\u001b[49m\u001b[43m(\u001b[49m\n\u001b[1;32m      2\u001b[0m \u001b[43m    \u001b[49m\u001b[43msave_location\u001b[49m\u001b[43m,\u001b[49m\n\u001b[1;32m      3\u001b[0m \u001b[43m    \u001b[49m\u001b[43mcamera_list\u001b[49m\u001b[43m,\u001b[49m\n\u001b[1;32m      4\u001b[0m \u001b[43m    \u001b[49m\u001b[43mframerate\u001b[49m\u001b[43m \u001b[49m\u001b[38;5;241;43m=\u001b[39;49m\u001b[43m \u001b[49m\u001b[38;5;241;43m30\u001b[39;49m\u001b[43m,\u001b[49m\n\u001b[1;32m      5\u001b[0m \u001b[43m    \u001b[49m\u001b[43mexposure_time\u001b[49m\u001b[43m \u001b[49m\u001b[38;5;241;43m=\u001b[39;49m\u001b[43m \u001b[49m\u001b[38;5;241;43m2000\u001b[39;49m\u001b[43m,\u001b[49m\n\u001b[1;32m      6\u001b[0m \u001b[43m    \u001b[49m\u001b[43mrecording_duration_s\u001b[49m\u001b[43m \u001b[49m\u001b[38;5;241;43m=\u001b[39;49m\u001b[43m \u001b[49m\u001b[38;5;241;43m10\u001b[39;49m\u001b[43m,\u001b[49m\n\u001b[1;32m      7\u001b[0m \u001b[43m    \u001b[49m\u001b[43mserial_timeout_duration_s\u001b[49m\u001b[38;5;241;43m=\u001b[39;49m\u001b[38;5;241;43m0.1\u001b[39;49m\u001b[43m,\u001b[49m\n\u001b[1;32m      8\u001b[0m \u001b[43m    \u001b[49m\u001b[43moverwrite\u001b[49m\u001b[38;5;241;43m=\u001b[39;49m\u001b[38;5;28;43;01mFalse\u001b[39;49;00m\u001b[43m,\u001b[49m\n\u001b[1;32m      9\u001b[0m \u001b[43m    \u001b[49m\u001b[43mappend_datetime\u001b[49m\u001b[38;5;241;43m=\u001b[39;49m\u001b[38;5;28;43;01mTrue\u001b[39;49;00m\u001b[43m,\u001b[49m\n\u001b[1;32m     10\u001b[0m \u001b[43m)\u001b[49m\n",
      "File \u001b[0;32m~/code/multicamera_acquisition/multicamera_acquisition/acquisition.py:336\u001b[0m, in \u001b[0;36macquire_video\u001b[0;34m(save_location, camera_list, recording_duration_s, framerate, exposure_time, serial_timeout_duration_s, overwrite, append_datetime, verbose, n_input_trigger_states)\u001b[0m\n\u001b[1;32m    334\u001b[0m \u001b[38;5;28;01mfor\u001b[39;00m acquisition_loop \u001b[38;5;129;01min\u001b[39;00m acquisition_loops:\n\u001b[1;32m    335\u001b[0m     acquisition_loop\u001b[38;5;241m.\u001b[39mstop()\n\u001b[0;32m--> 336\u001b[0m     \u001b[43macquisition_loop\u001b[49m\u001b[38;5;241;43m.\u001b[39;49m\u001b[43mjoin\u001b[49m\u001b[43m(\u001b[49m\u001b[43m)\u001b[49m\n\u001b[1;32m    338\u001b[0m \u001b[38;5;66;03m# end display process\u001b[39;00m\n\u001b[1;32m    339\u001b[0m \u001b[38;5;28;01mfor\u001b[39;00m display \u001b[38;5;129;01min\u001b[39;00m displays:\n",
      "File \u001b[0;32m~/anaconda3/envs/flir_acq/lib/python3.10/multiprocessing/process.py:149\u001b[0m, in \u001b[0;36mBaseProcess.join\u001b[0;34m(self, timeout)\u001b[0m\n\u001b[1;32m    147\u001b[0m \u001b[38;5;28;01massert\u001b[39;00m \u001b[38;5;28mself\u001b[39m\u001b[38;5;241m.\u001b[39m_parent_pid \u001b[38;5;241m==\u001b[39m os\u001b[38;5;241m.\u001b[39mgetpid(), \u001b[38;5;124m'\u001b[39m\u001b[38;5;124mcan only join a child process\u001b[39m\u001b[38;5;124m'\u001b[39m\n\u001b[1;32m    148\u001b[0m \u001b[38;5;28;01massert\u001b[39;00m \u001b[38;5;28mself\u001b[39m\u001b[38;5;241m.\u001b[39m_popen \u001b[38;5;129;01mis\u001b[39;00m \u001b[38;5;129;01mnot\u001b[39;00m \u001b[38;5;28;01mNone\u001b[39;00m, \u001b[38;5;124m'\u001b[39m\u001b[38;5;124mcan only join a started process\u001b[39m\u001b[38;5;124m'\u001b[39m\n\u001b[0;32m--> 149\u001b[0m res \u001b[38;5;241m=\u001b[39m \u001b[38;5;28;43mself\u001b[39;49m\u001b[38;5;241;43m.\u001b[39;49m\u001b[43m_popen\u001b[49m\u001b[38;5;241;43m.\u001b[39;49m\u001b[43mwait\u001b[49m\u001b[43m(\u001b[49m\u001b[43mtimeout\u001b[49m\u001b[43m)\u001b[49m\n\u001b[1;32m    150\u001b[0m \u001b[38;5;28;01mif\u001b[39;00m res \u001b[38;5;129;01mis\u001b[39;00m \u001b[38;5;129;01mnot\u001b[39;00m \u001b[38;5;28;01mNone\u001b[39;00m:\n\u001b[1;32m    151\u001b[0m     _children\u001b[38;5;241m.\u001b[39mdiscard(\u001b[38;5;28mself\u001b[39m)\n",
      "File \u001b[0;32m~/anaconda3/envs/flir_acq/lib/python3.10/multiprocessing/popen_fork.py:43\u001b[0m, in \u001b[0;36mPopen.wait\u001b[0;34m(self, timeout)\u001b[0m\n\u001b[1;32m     41\u001b[0m             \u001b[38;5;28;01mreturn\u001b[39;00m \u001b[38;5;28;01mNone\u001b[39;00m\n\u001b[1;32m     42\u001b[0m     \u001b[38;5;66;03m# This shouldn't block if wait() returned successfully.\u001b[39;00m\n\u001b[0;32m---> 43\u001b[0m     \u001b[38;5;28;01mreturn\u001b[39;00m \u001b[38;5;28;43mself\u001b[39;49m\u001b[38;5;241;43m.\u001b[39;49m\u001b[43mpoll\u001b[49m\u001b[43m(\u001b[49m\u001b[43mos\u001b[49m\u001b[38;5;241;43m.\u001b[39;49m\u001b[43mWNOHANG\u001b[49m\u001b[43m \u001b[49m\u001b[38;5;28;43;01mif\u001b[39;49;00m\u001b[43m \u001b[49m\u001b[43mtimeout\u001b[49m\u001b[43m \u001b[49m\u001b[38;5;241;43m==\u001b[39;49m\u001b[43m \u001b[49m\u001b[38;5;241;43m0.0\u001b[39;49m\u001b[43m \u001b[49m\u001b[38;5;28;43;01melse\u001b[39;49;00m\u001b[43m \u001b[49m\u001b[38;5;241;43m0\u001b[39;49m\u001b[43m)\u001b[49m\n\u001b[1;32m     44\u001b[0m \u001b[38;5;28;01mreturn\u001b[39;00m \u001b[38;5;28mself\u001b[39m\u001b[38;5;241m.\u001b[39mreturncode\n",
      "File \u001b[0;32m~/anaconda3/envs/flir_acq/lib/python3.10/multiprocessing/popen_fork.py:27\u001b[0m, in \u001b[0;36mPopen.poll\u001b[0;34m(self, flag)\u001b[0m\n\u001b[1;32m     25\u001b[0m \u001b[38;5;28;01mif\u001b[39;00m \u001b[38;5;28mself\u001b[39m\u001b[38;5;241m.\u001b[39mreturncode \u001b[38;5;129;01mis\u001b[39;00m \u001b[38;5;28;01mNone\u001b[39;00m:\n\u001b[1;32m     26\u001b[0m     \u001b[38;5;28;01mtry\u001b[39;00m:\n\u001b[0;32m---> 27\u001b[0m         pid, sts \u001b[38;5;241m=\u001b[39m \u001b[43mos\u001b[49m\u001b[38;5;241;43m.\u001b[39;49m\u001b[43mwaitpid\u001b[49m\u001b[43m(\u001b[49m\u001b[38;5;28;43mself\u001b[39;49m\u001b[38;5;241;43m.\u001b[39;49m\u001b[43mpid\u001b[49m\u001b[43m,\u001b[49m\u001b[43m \u001b[49m\u001b[43mflag\u001b[49m\u001b[43m)\u001b[49m\n\u001b[1;32m     28\u001b[0m     \u001b[38;5;28;01mexcept\u001b[39;00m \u001b[38;5;167;01mOSError\u001b[39;00m:\n\u001b[1;32m     29\u001b[0m         \u001b[38;5;66;03m# Child process not yet created. See #1731717\u001b[39;00m\n\u001b[1;32m     30\u001b[0m         \u001b[38;5;66;03m# e.errno == errno.ECHILD == 10\u001b[39;00m\n\u001b[1;32m     31\u001b[0m         \u001b[38;5;28;01mreturn\u001b[39;00m \u001b[38;5;28;01mNone\u001b[39;00m\n",
      "\u001b[0;31mKeyboardInterrupt\u001b[0m: "
     ]
    }
   ],
   "source": [
    "acquire_video(\n",
    "    save_location,\n",
    "    camera_list,\n",
    "    framerate = 30,\n",
    "    exposure_time = 2000,\n",
    "    recording_duration_s = 10,\n",
    "    serial_timeout_duration_s=0.1,\n",
    "    overwrite=False,\n",
    "    append_datetime=True,\n",
    ")"
   ]
  },
  {
   "cell_type": "code",
   "execution_count": null,
   "id": "2ff6a1b2",
   "metadata": {},
   "outputs": [],
   "source": []
  }
 ],
 "metadata": {
  "kernelspec": {
   "display_name": "flir_acq",
   "language": "python",
   "name": "flir_acq"
  },
  "language_info": {
   "codemirror_mode": {
    "name": "ipython",
    "version": 3
   },
   "file_extension": ".py",
   "mimetype": "text/x-python",
   "name": "python",
   "nbconvert_exporter": "python",
   "pygments_lexer": "ipython3",
   "version": "3.10.8 (main, Nov 24 2022, 14:13:03) [GCC 11.2.0]"
  }
 },
 "nbformat": 4,
 "nbformat_minor": 5
}
