{
 "cells": [
  {
   "cell_type": "code",
   "execution_count": 1,
   "metadata": {},
   "outputs": [],
   "source": [
    "%load_ext autoreload\n",
    "%autoreload 2"
   ]
  },
  {
   "cell_type": "code",
   "execution_count": 2,
   "metadata": {},
   "outputs": [],
   "source": [
    "%load_ext line_profiler"
   ]
  },
  {
   "cell_type": "code",
   "execution_count": 3,
   "metadata": {},
   "outputs": [],
   "source": [
    "from pyk4a import (\n",
    "    PyK4A,\n",
    "    Config,\n",
    "    ColorResolution,\n",
    "    DepthMode,\n",
    "    WiredSyncMode,\n",
    ")"
   ]
  },
  {
   "cell_type": "code",
   "execution_count": 4,
   "metadata": {},
   "outputs": [],
   "source": [
    "from multicamera_acquisition.interfaces.arduino import (\n",
    "    packIntAsLong,\n",
    "    wait_for_serial_confirmation,\n",
    ")\n",
    "import struct\n",
    "import time\n",
    "import numpy as np\n",
    "\n",
    "# from multicamera_acquisition.interface g hs import get_camera\n",
    "from multicamera_acquisition.video_io import write_frame\n",
    "from multicamera_acquisition.paths import ensure_dir\n",
    "from multicamera_acquisition.acquisition import acquire_video\n",
    "\n",
    "from pypylon import pylon"
   ]
  },
  {
   "cell_type": "code",
   "execution_count": 5,
   "metadata": {},
   "outputs": [],
   "source": [
    "import logging\n",
    "logger = logging.getLogger()\n",
    "logger.setLevel(logging.DEBUG)"
   ]
  },
  {
   "cell_type": "code",
   "execution_count": 6,
   "metadata": {},
   "outputs": [],
   "source": [
    "!k4arecorder --list"
   ]
  },
  {
   "cell_type": "markdown",
   "metadata": {},
   "source": [
    "## Set up the camera"
   ]
  },
  {
   "cell_type": "code",
   "execution_count": 7,
   "metadata": {},
   "outputs": [],
   "source": [
    "recording_duration_s = 60 #60*30  # seconds\n",
    "framerate = 90\n",
    "exposure_time=950# 1000s\n",
    "save_location = './tmp'\n",
    "quality = 15\n",
    "display = False\n",
    "camera_list = [\n",
    "    {'name': 'top','serial': 40338090, 'brand':'basler','gain': 30, 'gpu':0, \"display\":True, \"trigger_line\":\"Line2\", \"quality\": quality, \"exposure_time\":exposure_time},\n",
    "    {'name': 'S1', 'serial': 40338089, 'brand':'basler', 'gain': 30, 'gpu':1, \"display\":display, \"trigger_line\":\"Line2\", \"quality\": quality, \"exposure_time\":exposure_time},\n",
    "    {'name': 'S2', 'serial': 40338086, 'brand':'basler', 'gain': 30, 'gpu':0, \"display\":display, \"trigger_line\":\"Line2\", \"quality\": quality, \"exposure_time\":exposure_time},\n",
    "    {'name': 'S3', 'serial': 40338106, 'brand':'basler', 'gain': 30, 'gpu':1, \"display\":display, \"trigger_line\":\"Line2\", \"quality\": quality, \"exposure_time\":exposure_time},\n",
    "    { 'name': 'S4', 'serial': 40338091, 'brand':'basler', 'gain': 30, 'gpu':0, \"display\":display, \"trigger_line\":\"Line2\", \"quality\": quality, \"exposure_time\":exposure_time},\n",
    "    {'name': 'bottom', 'serial': 40338109, 'brand':'basler', 'gain': 30, 'gpu':1, \"display\":True, \"trigger_line\":\"Line2\", \"quality\": quality, \"exposure_time\": exposure_time},\n",
    "    { 'name': 'azuretop', 'serial': '000412721712', 'brand':'azure', 'gpu':0, \"display\":display, \"quality\": quality},\n",
    "    { 'name': 'azurebottom', 'serial': '000161621712', 'brand':'azure', 'gpu':1, \"display\":display, \"quality\": quality},\n",
    "]"
   ]
  },
  {
   "cell_type": "code",
   "execution_count": 8,
   "metadata": {
    "scrolled": true
   },
   "outputs": [],
   "source": [
    "video_out=acquire_video(\n",
    "    save_location,\n",
    "    camera_list,\n",
    "    frame_timeout = 1000, # how long to allow frames to attempt to grab bpcie lanesefore a timeout\n",
    "    azure_recording=True,\n",
    "    azure_framerate = 30,  # azure's frame rate in this case.\n",
    "    framerate=framerate,\n",
    "    display_framerate = 30,\n",
    "    recording_duration_s = recording_duration_s,\n",
    "    serial_timeout_duration_s=0.1,\n",
    "    overwrite=True,\n",
    "    append_datetime=True,\n",
    "    dropped_frame_warnings=True,\n",
    "    verbose=True\n",
    ")"
   ]
  },
  {
   "cell_type": "markdown",
   "metadata": {},
   "source": [
    "### Plot frames"
   ]
  },
  {
   "cell_type": "code",
   "execution_count": null,
   "metadata": {},
   "outputs": [],
   "source": [
    "from pathlib2 import Path\n",
    "import numpy as np\n",
    "import pandas as pd\n",
    "import matplotlib.pyplot as plt\n",
    "plt.set_loglevel (level = 'warning')"
   ]
  },
  {
   "cell_type": "code",
   "execution_count": null,
   "metadata": {},
   "outputs": [],
   "source": [
    "name = camera_list[0]['name']\n",
    "df = pd.read_csv(list(video_out.glob(f'{name}*.csv'))[0])"
   ]
  },
  {
   "cell_type": "code",
   "execution_count": null,
   "metadata": {},
   "outputs": [],
   "source": [
    "for cam in camera_list:\n",
    "    name = cam['name']\n",
    "    print(name)\n",
    "    df = pd.read_csv(list(video_out.glob(f'{name}*.csv'))[0])\n",
    "    fig, axs = plt.subplots(ncols = 1, nrows = 5, gridspec_kw= {'height_ratios':[1,1,1,1,1]}, figsize=(10,8))\n",
    "    nrows = len(df)\n",
    "    axs[0].set_title(f\"{name}: frame diff\")\n",
    "    axs[0].plot(np.diff(df.frame_id.values))\n",
    "    axs[0].set_xlim([0, len(df)])\n",
    "    axs[1].set_title(f\"{name}: camera timestamp diff\")\n",
    "    axs[1].plot(np.diff(df.frame_timestamp.values) / np.median(np.diff(df.frame_timestamp.values)))\n",
    "    #axs[1].plot(np.diff(df.frame_timestamp.values))\n",
    "    axs[1].set_xlim([0, len(df)])\n",
    "    axs[2].set_title(f\"{name}: computer timestamp (uid) diff\")\n",
    "    axs[2].plot(np.diff(df.frame_image_uid.values) / np.median(np.diff(df.frame_image_uid.values)))\n",
    "    axs[2].set_xlim([0, len(df)])\n",
    "    axs[3].set_title(f\"{name}: queue size\")\n",
    "    axs[3].plot(df.queue_size.values)\n",
    "    axs[3].set_xlim([0, len(df)])\n",
    "    axs[3].set_xlabel('Frames')\n",
    "    axs[4].hist(1/(np.diff(df.frame_timestamp.values)* 1e-9), bins=100);\n",
    "    axs[4].set_xlabel('Framerate')\n",
    "    plt.tight_layout()\n",
    "    plt.show()\n",
    "    \n",
    "    time_elapsed = (df.frame_timestamp.values[-1] - df.frame_timestamp.values[0]) * 1e-9\n",
    "    avg_framerate = np.mean(np.diff(df.frame_timestamp.values))\n",
    "    print(time_elapsed)\n",
    "    print(1 / (avg_framerate* 1e-9))"
   ]
  },
  {
   "cell_type": "code",
   "execution_count": null,
   "metadata": {},
   "outputs": [],
   "source": [
    "from multicamera_acquisition.video_io import read_frames"
   ]
  },
  {
   "cell_type": "code",
   "execution_count": null,
   "metadata": {},
   "outputs": [],
   "source": [
    "name = 'bottom'\n",
    "filename = list(video_out.glob(f'{name}*.avi'))[0].as_posix()\n",
    "frames = read_frames(\n",
    "    filename, \n",
    "    pixel_format = \"gray16\",\n",
    "    frames = list(range(294))\n",
    ")\n",
    "fig, axs = plt.subplots(figsize=(12, 4), ncols =2)\n",
    "axs[0].imshow(frames[0], cmap = 'turbo')\n",
    "axs[1].hist(frames[0].flatten())"
   ]
  },
  {
   "cell_type": "code",
   "execution_count": null,
   "metadata": {},
   "outputs": [],
   "source": [
    "frames.shape"
   ]
  },
  {
   "cell_type": "code",
   "execution_count": null,
   "metadata": {
    "scrolled": true
   },
   "outputs": [],
   "source": [
    "for i, frame in enumerate(frames[:16]):\n",
    "    plt.figure()\n",
    "    plt.imshow(frame)\n",
    "    ax = plt.gca()\n",
    "    ax.set_title(i)"
   ]
  },
  {
   "cell_type": "code",
   "execution_count": null,
   "metadata": {},
   "outputs": [],
   "source": [
    "plt.imshow(frames[17])"
   ]
  },
  {
   "cell_type": "code",
   "execution_count": null,
   "metadata": {},
   "outputs": [],
   "source": [
    "filename = list(video_out.glob(f'{name}*.avi'))[0].as_posix()\n",
    "frames = read_frames(\n",
    "    filename, const unsigned int BASLER_IR_PULSE_WIDTH_\n",
    "    pixel_format = \"gray16\",\n",
    "    frames = [0,1,2]\n",
    "                    \n",
    ")\n",
    "fig, axs = plt.subplots(figsize=(12, 4), ncols =2)\n",
    "axs[0].imshow(frames[0], cmap='Greys_r')\n",
    "axs[1].hist(frames[0].flatten())"
   ]
  },
  {
   "cell_type": "code",
   "execution_count": null,
   "metadata": {},
   "outputs": [],
   "source": []
  },
  {
   "cell_type": "code",
   "execution_count": null,
   "metadata": {},
   "outputs": [],
   "source": []
  },
  {
   "cell_type": "code",
   "execution_count": null,
   "metadata": {},
   "outputs": [],
   "source": []
  }
 ],
 "metadata": {
  "kernelspec": {
   "display_name": "multicam",
   "language": "python",
   "name": "multicam"
  },
  "language_info": {
   "codemirror_mode": {
    "name": "ipython",
    "version": 3
   },
   "file_extension": ".py",
   "mimetype": "text/x-python",
   "name": "python",
   "nbconvert_exporter": "python",
   "pygments_lexer": "ipython3",
   "version": "3.10.11"
  },
  "vscode": {
   "interpreter": {
    "hash": "c6042100894abde48f34597d4a2bff7f3009141664e742af4487c9ba5df15db0"
   }
  }
 },
 "nbformat": 4,
 "nbformat_minor": 4
}
