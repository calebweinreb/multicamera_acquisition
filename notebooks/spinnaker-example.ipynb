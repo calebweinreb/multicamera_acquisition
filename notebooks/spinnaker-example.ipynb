{
 "cells": [
  {
   "cell_type": "code",
   "execution_count": 1,
   "id": "eae8f8a5",
   "metadata": {},
   "outputs": [],
   "source": [
    "%load_ext autoreload\n",
    "%autoreload 2"
   ]
  },
  {
   "cell_type": "code",
   "execution_count": 2,
   "id": "4a498333",
   "metadata": {
    "scrolled": false
   },
   "outputs": [
    {
     "name": "stderr",
     "output_type": "stream",
     "text": [
      "/home/dattalab/code/multicamera_acquisition/multicamera_acquisition/interfaces/arduino.py:4: TqdmExperimentalWarning: Using `tqdm.autonotebook.tqdm` in notebook mode. Use `tqdm.tqdm` instead to force console mode (e.g. in jupyter console)\n",
      "  from tqdm.autonotebook import tqdm\n"
     ]
    }
   ],
   "source": [
    "from multicamera_acquisition.paths import DATA_DIR\n",
    "from multicamera_acquisition.acquisition import acquire_video"
   ]
  },
  {
   "cell_type": "code",
   "execution_count": 3,
   "id": "eb169038",
   "metadata": {},
   "outputs": [],
   "source": [
    "import logging\n",
    "import sys\n",
    "logging.basicConfig(stream=sys.stdout, level=logging.DEBUG)"
   ]
  },
  {
   "cell_type": "code",
   "execution_count": 4,
   "id": "00e56b61",
   "metadata": {},
   "outputs": [],
   "source": [
    "save_location = DATA_DIR / 'tests'"
   ]
  },
  {
   "cell_type": "code",
   "execution_count": 5,
   "id": "59c507e5",
   "metadata": {},
   "outputs": [],
   "source": [
    "camera_list = [\n",
    "    {'name': 'top', 'serial': 22181547, 'brand':'flir', 'gain': 12, \"display\":True},\n",
    "    {'name': 'side1', 'serial': 22181612, 'brand':'flir', 'gain': 12, \"display\":False},\n",
    "]"
   ]
  },
  {
   "cell_type": "code",
   "execution_count": null,
   "id": "d8d71f3d",
   "metadata": {
    "scrolled": true
   },
   "outputs": [
    {
     "name": "stdout",
     "output_type": "stream",
     "text": [
      "INFO:root:Checking cameras...\n",
      "INFO:root:Initializing cameras...\n",
      "INFO:root:Camera top...\n"
     ]
    },
    {
     "name": "stderr",
     "output_type": "stream",
     "text": [
      "Process AcquisitionLoop-3:\n",
      "Traceback (most recent call last):\n",
      "  File \"/home/dattalab/anaconda3/envs/flir_acq/lib/python3.10/multiprocessing/process.py\", line 314, in _bootstrap\n",
      "    self.run()\n",
      "  File \"/home/dattalab/code/multicamera_acquisition/multicamera_acquisition/acquisition.py\", line 67, in run\n",
      "    cam = get_camera(brand=self.brand, **self.camera_params)\n",
      "  File \"/home/dattalab/code/multicamera_acquisition/multicamera_acquisition/interfaces/__init__.py\", line 35, in get_camera\n",
      "    cam.init()\n",
      "  File \"/home/dattalab/code/multicamera_acquisition/multicamera_acquisition/interfaces/camera_flir.py\", line 69, in init\n",
      "    self.cam.Init()\n",
      "  File \"/home/dattalab/anaconda3/envs/flir_acq/lib/python3.10/site-packages/PySpin.py\", line 33433, in Init\n",
      "    return _PySpin._SWIG_CamPtr_Init(self)\n",
      "_PySpin.SpinnakerException: Spinnaker: NULL pointer dereferenced. [-1015]\n"
     ]
    }
   ],
   "source": [
    "acquire_video(\n",
    "    save_location,\n",
    "    camera_list,\n",
    "    framerate = 30,\n",
    "    exposure_time = 2000,\n",
    "    recording_duration_s = 10,\n",
    "    serial_timeout_duration_s=0.1,\n",
    "    overwrite=False,\n",
    "    append_datetime=True,\n",
    ")"
   ]
  }
 ],
 "metadata": {
  "kernelspec": {
   "display_name": "flir_acq",
   "language": "python",
   "name": "flir_acq"
  },
  "language_info": {
   "codemirror_mode": {
    "name": "ipython",
    "version": 3
   },
   "file_extension": ".py",
   "mimetype": "text/x-python",
   "name": "python",
   "nbconvert_exporter": "python",
   "pygments_lexer": "ipython3",
   "version": "3.10.8"
  }
 },
 "nbformat": 4,
 "nbformat_minor": 5
}
