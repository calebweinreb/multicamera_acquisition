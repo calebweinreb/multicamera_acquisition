{
 "cells": [
  {
   "cell_type": "code",
   "execution_count": 1,
   "id": "eae8f8a5",
   "metadata": {},
   "outputs": [],
   "source": [
    "%load_ext autoreload\n",
    "%autoreload 2"
   ]
  },
  {
   "cell_type": "code",
   "execution_count": 2,
   "id": "fea559fa",
   "metadata": {},
   "outputs": [],
   "source": [
    "import PySpin"
   ]
  },
  {
   "cell_type": "code",
   "execution_count": 3,
   "id": "069be69f",
   "metadata": {},
   "outputs": [
    {
     "ename": "SpinnakerException",
     "evalue": "Spinnaker: System instance cannot be acquired. [-1012]",
     "output_type": "error",
     "traceback": [
      "\u001b[0;31m---------------------------------------------------------------------------\u001b[0m",
      "\u001b[0;31mSpinnakerException\u001b[0m                        Traceback (most recent call last)",
      "Cell \u001b[0;32mIn[3], line 2\u001b[0m\n\u001b[1;32m      1\u001b[0m \u001b[38;5;66;03m# Get system\u001b[39;00m\n\u001b[0;32m----> 2\u001b[0m system \u001b[38;5;241m=\u001b[39m \u001b[43mPySpin\u001b[49m\u001b[38;5;241;43m.\u001b[39;49m\u001b[43mSystem\u001b[49m\u001b[38;5;241;43m.\u001b[39;49m\u001b[43mGetInstance\u001b[49m\u001b[43m(\u001b[49m\u001b[43m)\u001b[49m\n\u001b[1;32m      3\u001b[0m \u001b[38;5;66;03m# Get camera list\u001b[39;00m\n\u001b[1;32m      4\u001b[0m cam_list \u001b[38;5;241m=\u001b[39m system\u001b[38;5;241m.\u001b[39mGetCameras()\n",
      "File \u001b[0;32m~/anaconda3/envs/flir_acq/lib/python3.10/site-packages/PySpin.py:35808\u001b[0m, in \u001b[0;36mSystem.GetInstance\u001b[0;34m()\u001b[0m\n\u001b[1;32m  35805\u001b[0m \u001b[38;5;129m@staticmethod\u001b[39m\n\u001b[1;32m  35806\u001b[0m \u001b[38;5;28;01mdef\u001b[39;00m \u001b[38;5;21mGetInstance\u001b[39m():\n\u001b[1;32m  35807\u001b[0m     \u001b[38;5;124mr\u001b[39m\u001b[38;5;124;03m\"\"\"GetInstance() -> SystemPtr\"\"\"\u001b[39;00m\n\u001b[0;32m> 35808\u001b[0m     \u001b[38;5;28;01mreturn\u001b[39;00m \u001b[43m_PySpin\u001b[49m\u001b[38;5;241;43m.\u001b[39;49m\u001b[43mSystem_GetInstance\u001b[49m\u001b[43m(\u001b[49m\u001b[43m)\u001b[49m\n",
      "\u001b[0;31mSpinnakerException\u001b[0m: Spinnaker: System instance cannot be acquired. [-1012]"
     ]
    }
   ],
   "source": [
    "# Get system\n",
    "system = PySpin.System.GetInstance()\n",
    "# Get camera list\n",
    "cam_list = system.GetCameras()\n",
    "\n",
    "print(f\"Number of cameras available: {len(cam_list)}\")"
   ]
  },
  {
   "cell_type": "code",
   "execution_count": null,
   "id": "cd840bc7",
   "metadata": {},
   "outputs": [],
   "source": [
    "# use spinview to get serial numbers for each camera"
   ]
  },
  {
   "cell_type": "code",
   "execution_count": null,
   "id": "59c507e5",
   "metadata": {},
   "outputs": [],
   "source": [
    "camera_list = [\n",
    "    {'name': 'top', 'serial': 22181547},\n",
    "    {'name': 'side1', 'serial': 22181612},\n",
    "]"
   ]
  },
  {
   "cell_type": "code",
   "execution_count": null,
   "id": "0753578b",
   "metadata": {},
   "outputs": [],
   "source": [
    "from datetime import datetime"
   ]
  },
  {
   "cell_type": "code",
   "execution_count": null,
   "id": "26c115c0",
   "metadata": {},
   "outputs": [],
   "source": [
    "import csv\n",
    "from multicamera_acquisition.paths import ensure_dir\n",
    "from multicamera_acquisition.acquisition import Writer, AcquisitionLoop\n",
    "import serial\n",
    "from pathlib2 import Path\n",
    "from datetime import datetime\n",
    "import multiprocessing as mp\n",
    "import warnings"
   ]
  },
  {
   "cell_type": "code",
   "execution_count": null,
   "id": "9f069055",
   "metadata": {},
   "outputs": [],
   "source": [
    "def acquire_video(\n",
    "    save_location,\n",
    "    camera_list,\n",
    "    recording_duration_s,\n",
    "    framerate = 30,\n",
    "    exposure_time = 2000,\n",
    "    serial_timeout_duration_s=0.1,\n",
    "    overwrite=False,\n",
    "    append_datetime=True,\n",
    "    verbose = True,\n",
    "):\n",
    "\n",
    "    # get Path of save location\n",
    "    if type(save_location) != Path:\n",
    "        save_location = Path(save_location)\n",
    "\n",
    "    # create a subfolder for the current datetime\n",
    "    if append_datetime:\n",
    "        date_str = datetime.now().strftime(\"%y-%m-%d-%H-%M-%S-%f\")\n",
    "        save_location = save_location / date_str\n",
    "\n",
    "    # ensure that a directory exists to save data in\n",
    "    ensure_dir(save_location)\n",
    "\n",
    "    triggerdata_file = save_location / \"triggerdata.csv\"\n",
    "    if triggerdata_file.exists() and (overwrite == False):\n",
    "        raise FileExistsError(f\"CSV file {triggerdata_file} already exists\")\n",
    "\n",
    "\n",
    "    # initialize cameras\n",
    "    writers = []\n",
    "    acquisition_loops = []\n",
    "\n",
    "    # create acquisition loops\n",
    "    for camera_dict in camera_list:\n",
    "        name = camera_dict[\"name\"]\n",
    "        serial_number = camera_dict[\"serial\"]\n",
    "\n",
    "        video_file = save_location / f\"{name}.{serial_number}.avi\"\n",
    "        metadata_file = save_location / f\"{name}.{serial_number}.triggerdata.csv\"\n",
    "        \n",
    "        if video_file.exists() and (overwrite == False):\n",
    "            raise FileExistsError(f\"Video file {video_file} already exists\")\n",
    "\n",
    "        # create a writer queue\n",
    "        write_queue = mp.Queue()\n",
    "        writer = Writer(\n",
    "            write_queue,\n",
    "            video_file_name=video_file,\n",
    "            metadata_file_name=metadata_file,\n",
    "            fps=framerate,\n",
    "            camera_serial=serial_number,\n",
    "            camera_name=name,\n",
    "        )\n",
    "\n",
    "        # prepare the acuqisition loop in a separate thread\n",
    "        acquisition_loop = AcquisitionLoop(\n",
    "            write_queue, serial_number=serial_number, exposure_time=exposure_time, gain=15\n",
    "        )\n",
    "\n",
    "        # initialize acquisition\n",
    "        writer.start()\n",
    "        writers.append(writer)\n",
    "        acquisition_loop.start()\n",
    "        acquisition_loop.ready.wait()\n",
    "        acquisition_loops.append(acquisition_loop)\n",
    "        if verbose:\n",
    "            warnings.info(f\"Initialized {name} ({serial_number})\")\n",
    "\n",
    "    # prepare acquisition loops\n",
    "    for acquisition_loop in acquisition_loops:\n",
    "        acquisition_loop.prime()\n",
    "        acquisition_loop.ready.wait()\n",
    "\n",
    "    # prepare communication with arduino\n",
    "    serial_ports = glob.glob(\"/dev/ttyACM*\")\n",
    "    # check that there is an arduino available\n",
    "    if len(serial_ports) == 0:\n",
    "        raise ValueError(\"No serial device (i.e. Arduino) available to capture frames\")\n",
    "    port = glob.glob(\"/dev/ttyACM*\")[0]\n",
    "    arduino = serial.Serial(port=port, timeout=serial_timeout_duration_s)\n",
    "\n",
    "    # delay recording to allow serial connection to connect\n",
    "    time.sleep(1.0)\n",
    "\n",
    "    # create a triggerdata file\n",
    "    with open(triggerdata_file, \"w\") as triggerdata_f:\n",
    "        triggerdata_writer = csv.writer(triggerdata_f)\n",
    "        triggerdata_writer.writerow(\n",
    "            [\"pulse_id\", \"arduino_ms\"]\n",
    "            + [f\"flag_{i}\" for i in range(n_input_trigger_states)]\n",
    "        )\n",
    "\n",
    "    # Tell the arduino to start recording by sending along the recording parameters\n",
    "    msg = b\"\".join(map(packIntAsLong, params))\n",
    "    arduino.write(msg)\n",
    "\n",
    "    # Run acquision\n",
    "    confirmation = wait_for_serial_confirmation(\"Start\")\n",
    "    ## TODO: recieve channels flipped\n",
    "    for i in tqdm(range(int(recording_duration_s / timeout_duration_s))):\n",
    "        confirmation = arduino.readline().decode(\"utf-8\").strip(\"\\r\\n\")\n",
    "\n",
    "        # save input data flags\n",
    "        if len(confirmation) > 0:\n",
    "            print(confirmation)\n",
    "            if confirmation[:7] == \"input: \":\n",
    "                with open(triggerdata_file, \"a\") as triggerdata_f:\n",
    "                    triggerdata_writer = csv.writer(triggerdata_f)\n",
    "                    states = confirmation[7:].split(\",\")[:-2]\n",
    "                    frame_num = confirmation[7:].split(\",\")[-2]\n",
    "                    arduino_clock = confirmation[7:].split(\",\")[-1]\n",
    "                    triggerdata_writer.writerow([frame_num, arduino_clock] + states)\n",
    "            if verbose:\n",
    "                print(confirmation)\n",
    "\n",
    "        if confirmation == \"Finished\":\n",
    "            break\n",
    "\n",
    "    if confirmation != \"Finished\":\n",
    "        confirmation = wait_for_serial_confirmation(\"Finished\")\n",
    "\n",
    "    # end acquisition loops\n",
    "    for acquisition_loop in acquisition_loops:\n",
    "        acquisition_loop.stop()\n",
    "        acquisition_loop.join()\n",
    "\n",
    "    # @CALEB: what is the purpose of this?\n",
    "    for writer in writers:\n",
    "        writer.join()\n",
    "\n",
    "    if verbose:\n",
    "        # count each frame\n",
    "        for camera_dict in camera_list:\n",
    "            name = camera_dict[\"name\"]\n",
    "            serial_number = camera_dict[\"serial\"]\n",
    "            video_file = save_location / f\"{name}.{serial_number}.avi\"\n",
    "            print(f\"Frames ({name}):\", count_frames(f\"{prefix}.{k}.{sn}.avi\"))"
   ]
  },
  {
   "cell_type": "code",
   "execution_count": null,
   "id": "71f0b157",
   "metadata": {},
   "outputs": [],
   "source": [
    "from multicamera_acquisition.paths import DATA_DIR"
   ]
  },
  {
   "cell_type": "code",
   "execution_count": null,
   "id": "3dba259b",
   "metadata": {},
   "outputs": [],
   "source": [
    "import multicamera_acquisition.acquisition"
   ]
  },
  {
   "cell_type": "code",
   "execution_count": null,
   "id": "483eb3a2",
   "metadata": {},
   "outputs": [],
   "source": [
    "save_location = DATA_DIR / 'tests'"
   ]
  },
  {
   "cell_type": "code",
   "execution_count": null,
   "id": "d8d71f3d",
   "metadata": {},
   "outputs": [],
   "source": [
    "acquire_video(\n",
    "    save_location,\n",
    "    camera_list,\n",
    "    framerate = 30,\n",
    "    exposure_time = 2000,\n",
    "    recording_duration_s = 10,\n",
    "    serial_timeout_duration_s=0.1,\n",
    "    overwrite=False,\n",
    "    append_datetime=True,\n",
    ")"
   ]
  },
  {
   "cell_type": "code",
   "execution_count": null,
   "id": "1caba2b9",
   "metadata": {},
   "outputs": [],
   "source": []
  }
 ],
 "metadata": {
  "kernelspec": {
   "display_name": "flir_acq",
   "language": "python",
   "name": "flir_acq"
  },
  "language_info": {
   "codemirror_mode": {
    "name": "ipython",
    "version": 3
   },
   "file_extension": ".py",
   "mimetype": "text/x-python",
   "name": "python",
   "nbconvert_exporter": "python",
   "pygments_lexer": "ipython3",
   "version": "3.10.8"
  }
 },
 "nbformat": 4,
 "nbformat_minor": 5
}
