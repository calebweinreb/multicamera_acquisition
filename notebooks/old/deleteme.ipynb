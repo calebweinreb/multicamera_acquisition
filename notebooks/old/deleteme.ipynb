{
 "cells": [
  {
   "cell_type": "code",
   "execution_count": 1,
   "id": "93a52e8b",
   "metadata": {},
   "outputs": [],
   "source": [
    "import matplotlib.pyplot as plt\n",
    "import cv2\n",
    "import numpy as np\n",
    "from IPython.display import display, Image\n",
    "import ipywidgets as widgets\n",
    "import threading\n",
    "import time"
   ]
  },
  {
   "cell_type": "code",
   "execution_count": 2,
   "id": "dea15869",
   "metadata": {},
   "outputs": [],
   "source": [
    "# Stop button\n",
    "# ================\n",
    "stopButton = widgets.ToggleButton(\n",
    "    value=False,\n",
    "    description='Stop',\n",
    "    disabled=False,\n",
    "    button_style='danger', # 'success', 'info', 'warning', 'danger' or ''\n",
    "    tooltip='Description',\n",
    "    icon='square' # (FontAwesome names without the `fa-` prefix)\n",
    ")"
   ]
  },
  {
   "cell_type": "code",
   "execution_count": 3,
   "id": "f62ca879",
   "metadata": {},
   "outputs": [
    {
     "data": {
      "application/vnd.jupyter.widget-view+json": {
       "model_id": "9e344a8276ee4e3a9336b6389a330a8a",
       "version_major": 2,
       "version_minor": 0
      },
      "text/plain": [
       "ToggleButton(value=False, button_style='danger', description='Stop', icon='square', tooltip='Description')"
      ]
     },
     "metadata": {},
     "output_type": "display_data"
    }
   ],
   "source": [
    "display(stopButton)"
   ]
  },
  {
   "cell_type": "code",
   "execution_count": 4,
   "id": "9f9daa7e",
   "metadata": {},
   "outputs": [],
   "source": [
    "\n",
    "\n",
    "# Display function\n",
    "# ================\n",
    "def view(button):\n",
    "    #cap = cv2.VideoCapture(0)\n",
    "    display_handle=display(None, display_id=True)\n",
    "    i = 0\n",
    "    for i in range(100):\n",
    "        #_, frame = cap.read()\n",
    "        frame = np.random.rand(100,100,3)*255\n",
    "        _, frame = cv2.imencode('.jpeg', frame)\n",
    "        display_handle.update(Image(data=frame))\n",
    "        if stopButton.value==True:\n",
    "            cap.release()\n",
    "            display_handle.update(None)\n",
    "        time.sleep(0.1)\n",
    "\n",
    "            \n"
   ]
  },
  {
   "cell_type": "code",
   "execution_count": 5,
   "id": "7a56598d",
   "metadata": {},
   "outputs": [
    {
     "data": {
      "image/png": "[encoded data removed]",
      "text/plain": [
       "<IPython.core.display.Image object>"
      ]
     },
     "metadata": {},
     "output_type": "display_data"
    }
   ],
   "source": [
    "# Run\n",
    "# ================\n",
    "thread = threading.Thread(target=view, args=(stopButton,))\n",
    "thread.start()"
   ]
  },
  {
   "cell_type": "code",
   "execution_count": 1,
   "id": "feca6737",
   "metadata": {},
   "outputs": [
    {
     "ename": "NameError",
     "evalue": "name 'time' is not defined",
     "output_type": "error",
     "traceback": [
      "\u001b[0;31m---------------------------------------------------------------------------\u001b[0m",
      "\u001b[0;31mNameError\u001b[0m                                 Traceback (most recent call last)",
      "Cell \u001b[0;32mIn[1], line 10\u001b[0m\n\u001b[1;32m      7\u001b[0m ttk\u001b[38;5;241m.\u001b[39mButton(frm, text\u001b[38;5;241m=\u001b[39m\u001b[38;5;124m\"\u001b[39m\u001b[38;5;124mQuit\u001b[39m\u001b[38;5;124m\"\u001b[39m, command\u001b[38;5;241m=\u001b[39mroot\u001b[38;5;241m.\u001b[39mdestroy)\u001b[38;5;241m.\u001b[39mgrid(column\u001b[38;5;241m=\u001b[39m\u001b[38;5;241m1\u001b[39m, row\u001b[38;5;241m=\u001b[39m\u001b[38;5;241m0\u001b[39m)\n\u001b[1;32m      8\u001b[0m root\u001b[38;5;241m.\u001b[39mmainloop()\n\u001b[0;32m---> 10\u001b[0m \u001b[43mtime\u001b[49m\u001b[38;5;241m.\u001b[39msleep(\u001b[38;5;241m3\u001b[39m)\n\u001b[1;32m     11\u001b[0m root\u001b[38;5;241m.\u001b[39mdestroy()\n",
      "\u001b[0;31mNameError\u001b[0m: name 'time' is not defined"
     ]
    }
   ],
   "source": [
    "from tkinter import *\n",
    "from tkinter import ttk\n",
    "root = Tk()\n",
    "frm = ttk.Frame(root, padding=10)\n",
    "frm.grid()\n",
    "ttk.Label(frm, text=\"Hello World!\").grid(column=0, row=0)\n",
    "ttk.Button(frm, text=\"Quit\", command=root.destroy).grid(column=1, row=0)\n",
    "root.mainloop()\n",
    "\n",
    "time.sleep(3)\n",
    "root.destroy()"
   ]
  },
  {
   "cell_type": "code",
   "execution_count": 19,
   "id": "6cce8c6a",
   "metadata": {},
   "outputs": [],
   "source": [
    "import numpy as np"
   ]
  },
  {
   "cell_type": "code",
   "execution_count": 16,
   "id": "5baf7e3a",
   "metadata": {},
   "outputs": [],
   "source": [
    "cv2image= (np.random.rand(10, 10, 3) * 255).astype(np.uint8)\n",
    "img = Image.fromarray(cv2image)"
   ]
  },
  {
   "cell_type": "code",
   "execution_count": 28,
   "id": "cfc485b2",
   "metadata": {},
   "outputs": [
    {
     "ename": "TclError",
     "evalue": "image \"pyimage5\" doesn't exist",
     "output_type": "error",
     "traceback": [
      "\u001b[0;31m---------------------------------------------------------------------------\u001b[0m",
      "\u001b[0;31mTclError\u001b[0m                                  Traceback (most recent call last)",
      "Cell \u001b[0;32mIn[28], line 3\u001b[0m\n\u001b[1;32m      1\u001b[0m imgtk \u001b[38;5;241m=\u001b[39m ImageTk\u001b[38;5;241m.\u001b[39mPhotoImage(image\u001b[38;5;241m=\u001b[39mimg)\n\u001b[1;32m      2\u001b[0m label\u001b[38;5;241m.\u001b[39mimgtk \u001b[38;5;241m=\u001b[39m imgtk\n\u001b[0;32m----> 3\u001b[0m \u001b[43mlabel\u001b[49m\u001b[38;5;241;43m.\u001b[39;49m\u001b[43mconfigure\u001b[49m\u001b[43m(\u001b[49m\u001b[43mimage\u001b[49m\u001b[38;5;241;43m=\u001b[39;49m\u001b[43mimgtk\u001b[49m\u001b[43m)\u001b[49m\n",
      "File \u001b[0;32m~/anaconda3/envs/flir_acq/lib/python3.10/tkinter/__init__.py:1675\u001b[0m, in \u001b[0;36mMisc.configure\u001b[0;34m(self, cnf, **kw)\u001b[0m\n\u001b[1;32m   1668\u001b[0m \u001b[38;5;28;01mdef\u001b[39;00m \u001b[38;5;21mconfigure\u001b[39m(\u001b[38;5;28mself\u001b[39m, cnf\u001b[38;5;241m=\u001b[39m\u001b[38;5;28;01mNone\u001b[39;00m, \u001b[38;5;241m*\u001b[39m\u001b[38;5;241m*\u001b[39mkw):\n\u001b[1;32m   1669\u001b[0m     \u001b[38;5;124;03m\"\"\"Configure resources of a widget.\u001b[39;00m\n\u001b[1;32m   1670\u001b[0m \n\u001b[1;32m   1671\u001b[0m \u001b[38;5;124;03m    The values for resources are specified as keyword\u001b[39;00m\n\u001b[1;32m   1672\u001b[0m \u001b[38;5;124;03m    arguments. To get an overview about\u001b[39;00m\n\u001b[1;32m   1673\u001b[0m \u001b[38;5;124;03m    the allowed keyword arguments call the method keys.\u001b[39;00m\n\u001b[1;32m   1674\u001b[0m \u001b[38;5;124;03m    \"\"\"\u001b[39;00m\n\u001b[0;32m-> 1675\u001b[0m     \u001b[38;5;28;01mreturn\u001b[39;00m \u001b[38;5;28;43mself\u001b[39;49m\u001b[38;5;241;43m.\u001b[39;49m\u001b[43m_configure\u001b[49m\u001b[43m(\u001b[49m\u001b[38;5;124;43m'\u001b[39;49m\u001b[38;5;124;43mconfigure\u001b[39;49m\u001b[38;5;124;43m'\u001b[39;49m\u001b[43m,\u001b[49m\u001b[43m \u001b[49m\u001b[43mcnf\u001b[49m\u001b[43m,\u001b[49m\u001b[43m \u001b[49m\u001b[43mkw\u001b[49m\u001b[43m)\u001b[49m\n",
      "File \u001b[0;32m~/anaconda3/envs/flir_acq/lib/python3.10/tkinter/__init__.py:1665\u001b[0m, in \u001b[0;36mMisc._configure\u001b[0;34m(self, cmd, cnf, kw)\u001b[0m\n\u001b[1;32m   1663\u001b[0m \u001b[38;5;28;01mif\u001b[39;00m \u001b[38;5;28misinstance\u001b[39m(cnf, \u001b[38;5;28mstr\u001b[39m):\n\u001b[1;32m   1664\u001b[0m     \u001b[38;5;28;01mreturn\u001b[39;00m \u001b[38;5;28mself\u001b[39m\u001b[38;5;241m.\u001b[39m_getconfigure1(_flatten((\u001b[38;5;28mself\u001b[39m\u001b[38;5;241m.\u001b[39m_w, cmd, \u001b[38;5;124m'\u001b[39m\u001b[38;5;124m-\u001b[39m\u001b[38;5;124m'\u001b[39m\u001b[38;5;241m+\u001b[39mcnf)))\n\u001b[0;32m-> 1665\u001b[0m \u001b[38;5;28;43mself\u001b[39;49m\u001b[38;5;241;43m.\u001b[39;49m\u001b[43mtk\u001b[49m\u001b[38;5;241;43m.\u001b[39;49m\u001b[43mcall\u001b[49m\u001b[43m(\u001b[49m\u001b[43m_flatten\u001b[49m\u001b[43m(\u001b[49m\u001b[43m(\u001b[49m\u001b[38;5;28;43mself\u001b[39;49m\u001b[38;5;241;43m.\u001b[39;49m\u001b[43m_w\u001b[49m\u001b[43m,\u001b[49m\u001b[43m \u001b[49m\u001b[43mcmd\u001b[49m\u001b[43m)\u001b[49m\u001b[43m)\u001b[49m\u001b[43m \u001b[49m\u001b[38;5;241;43m+\u001b[39;49m\u001b[43m \u001b[49m\u001b[38;5;28;43mself\u001b[39;49m\u001b[38;5;241;43m.\u001b[39;49m\u001b[43m_options\u001b[49m\u001b[43m(\u001b[49m\u001b[43mcnf\u001b[49m\u001b[43m)\u001b[49m\u001b[43m)\u001b[49m\n",
      "\u001b[0;31mTclError\u001b[0m: image \"pyimage5\" doesn't exist"
     ]
    }
   ],
   "source": [
    "imgtk = ImageTk.PhotoImage(image=img)\n",
    "label.imgtk = imgtk\n",
    "label.configure(image=imgtk)"
   ]
  },
  {
   "cell_type": "code",
   "execution_count": 26,
   "id": "2ecb1c14",
   "metadata": {},
   "outputs": [],
   "source": [
    "from tkinter import *\n",
    "from PIL import Image, ImageTk"
   ]
  },
  {
   "cell_type": "code",
   "execution_count": 23,
   "id": "143a73c2",
   "metadata": {},
   "outputs": [
    {
     "ename": "TclError",
     "evalue": "cannot use geometry manager pack inside . which already has slaves managed by grid",
     "output_type": "error",
     "traceback": [
      "\u001b[0;31m---------------------------------------------------------------------------\u001b[0m",
      "\u001b[0;31mTclError\u001b[0m                                  Traceback (most recent call last)",
      "Cell \u001b[0;32mIn[23], line 7\u001b[0m\n\u001b[1;32m      5\u001b[0m l1 \u001b[38;5;241m=\u001b[39m Label(f1)\n\u001b[1;32m      6\u001b[0m l1\u001b[38;5;241m.\u001b[39mpack()\n\u001b[0;32m----> 7\u001b[0m \u001b[43mf1\u001b[49m\u001b[38;5;241;43m.\u001b[39;49m\u001b[43mpack\u001b[49m\u001b[43m(\u001b[49m\u001b[43m)\u001b[49m\n\u001b[1;32m      8\u001b[0m \u001b[38;5;66;03m#video = imageio.get_reader(video_name)\u001b[39;00m\n\u001b[1;32m      9\u001b[0m \u001b[38;5;66;03m#delay = int(1000 / video.get_meta_data()['fps'])\u001b[39;00m\n\u001b[1;32m     10\u001b[0m stream()\n",
      "File \u001b[0;32m~/anaconda3/envs/flir_acq/lib/python3.10/tkinter/__init__.py:2425\u001b[0m, in \u001b[0;36mPack.pack_configure\u001b[0;34m(self, cnf, **kw)\u001b[0m\n\u001b[1;32m   2409\u001b[0m \u001b[38;5;28;01mdef\u001b[39;00m \u001b[38;5;21mpack_configure\u001b[39m(\u001b[38;5;28mself\u001b[39m, cnf\u001b[38;5;241m=\u001b[39m{}, \u001b[38;5;241m*\u001b[39m\u001b[38;5;241m*\u001b[39mkw):\n\u001b[1;32m   2410\u001b[0m     \u001b[38;5;124;03m\"\"\"Pack a widget in the parent widget. Use as options:\u001b[39;00m\n\u001b[1;32m   2411\u001b[0m \u001b[38;5;124;03m    after=widget - pack it after you have packed widget\u001b[39;00m\n\u001b[1;32m   2412\u001b[0m \u001b[38;5;124;03m    anchor=NSEW (or subset) - position widget according to\u001b[39;00m\n\u001b[0;32m   (...)\u001b[0m\n\u001b[1;32m   2423\u001b[0m \u001b[38;5;124;03m    side=TOP or BOTTOM or LEFT or RIGHT -  where to add this widget.\u001b[39;00m\n\u001b[1;32m   2424\u001b[0m \u001b[38;5;124;03m    \"\"\"\u001b[39;00m\n\u001b[0;32m-> 2425\u001b[0m     \u001b[38;5;28;43mself\u001b[39;49m\u001b[38;5;241;43m.\u001b[39;49m\u001b[43mtk\u001b[49m\u001b[38;5;241;43m.\u001b[39;49m\u001b[43mcall\u001b[49m\u001b[43m(\u001b[49m\n\u001b[1;32m   2426\u001b[0m \u001b[43m          \u001b[49m\u001b[43m(\u001b[49m\u001b[38;5;124;43m'\u001b[39;49m\u001b[38;5;124;43mpack\u001b[39;49m\u001b[38;5;124;43m'\u001b[39;49m\u001b[43m,\u001b[49m\u001b[43m \u001b[49m\u001b[38;5;124;43m'\u001b[39;49m\u001b[38;5;124;43mconfigure\u001b[39;49m\u001b[38;5;124;43m'\u001b[39;49m\u001b[43m,\u001b[49m\u001b[43m \u001b[49m\u001b[38;5;28;43mself\u001b[39;49m\u001b[38;5;241;43m.\u001b[39;49m\u001b[43m_w\u001b[49m\u001b[43m)\u001b[49m\n\u001b[1;32m   2427\u001b[0m \u001b[43m          \u001b[49m\u001b[38;5;241;43m+\u001b[39;49m\u001b[43m \u001b[49m\u001b[38;5;28;43mself\u001b[39;49m\u001b[38;5;241;43m.\u001b[39;49m\u001b[43m_options\u001b[49m\u001b[43m(\u001b[49m\u001b[43mcnf\u001b[49m\u001b[43m,\u001b[49m\u001b[43m \u001b[49m\u001b[43mkw\u001b[49m\u001b[43m)\u001b[49m\u001b[43m)\u001b[49m\n",
      "\u001b[0;31mTclError\u001b[0m: cannot use geometry manager pack inside . which already has slaves managed by grid"
     ]
    }
   ],
   "source": [
    "\n",
    "########### Main Program ############\n",
    "root = Tk()\n",
    "root.title('Video in a Frame')\n",
    "f1=Frame()\n",
    "l1 = Label(f1)\n",
    "l1.pack()\n",
    "f1.pack()\n",
    "#video = imageio.get_reader(video_name)\n",
    "#delay = int(1000 / video.get_meta_data()['fps'])\n",
    "stream()\n",
    "root.mainloop()"
   ]
  },
  {
   "cell_type": "code",
   "execution_count": 29,
   "id": "d1543aff",
   "metadata": {},
   "outputs": [],
   "source": [
    "from PIL import Image, ImageTk\n"
   ]
  },
  {
   "cell_type": "code",
   "execution_count": 25,
   "id": "4983fb8a",
   "metadata": {},
   "outputs": [
    {
     "ename": "TclError",
     "evalue": "cannot use geometry manager pack inside . which already has slaves managed by grid",
     "output_type": "error",
     "traceback": [
      "\u001b[0;31m---------------------------------------------------------------------------\u001b[0m",
      "\u001b[0;31mTclError\u001b[0m                                  Traceback (most recent call last)",
      "Cell \u001b[0;32mIn[25], line 21\u001b[0m\n\u001b[1;32m     19\u001b[0m l1 \u001b[38;5;241m=\u001b[39m Label(f1)\n\u001b[1;32m     20\u001b[0m l1\u001b[38;5;241m.\u001b[39mpack()\n\u001b[0;32m---> 21\u001b[0m \u001b[43mf1\u001b[49m\u001b[38;5;241;43m.\u001b[39;49m\u001b[43mpack\u001b[49m\u001b[43m(\u001b[49m\u001b[43m)\u001b[49m\n\u001b[1;32m     22\u001b[0m video_name \u001b[38;5;241m=\u001b[39m \u001b[38;5;124m\"\u001b[39m\u001b[38;5;124mFuturama.mkv\u001b[39m\u001b[38;5;124m\"\u001b[39m   \u001b[38;5;66;03m#Image-path\u001b[39;00m\n\u001b[1;32m     23\u001b[0m video \u001b[38;5;241m=\u001b[39m imageio\u001b[38;5;241m.\u001b[39mget_reader(video_name)\n",
      "File \u001b[0;32m~/anaconda3/envs/flir_acq/lib/python3.10/tkinter/__init__.py:2425\u001b[0m, in \u001b[0;36mPack.pack_configure\u001b[0;34m(self, cnf, **kw)\u001b[0m\n\u001b[1;32m   2409\u001b[0m \u001b[38;5;28;01mdef\u001b[39;00m \u001b[38;5;21mpack_configure\u001b[39m(\u001b[38;5;28mself\u001b[39m, cnf\u001b[38;5;241m=\u001b[39m{}, \u001b[38;5;241m*\u001b[39m\u001b[38;5;241m*\u001b[39mkw):\n\u001b[1;32m   2410\u001b[0m     \u001b[38;5;124;03m\"\"\"Pack a widget in the parent widget. Use as options:\u001b[39;00m\n\u001b[1;32m   2411\u001b[0m \u001b[38;5;124;03m    after=widget - pack it after you have packed widget\u001b[39;00m\n\u001b[1;32m   2412\u001b[0m \u001b[38;5;124;03m    anchor=NSEW (or subset) - position widget according to\u001b[39;00m\n\u001b[0;32m   (...)\u001b[0m\n\u001b[1;32m   2423\u001b[0m \u001b[38;5;124;03m    side=TOP or BOTTOM or LEFT or RIGHT -  where to add this widget.\u001b[39;00m\n\u001b[1;32m   2424\u001b[0m \u001b[38;5;124;03m    \"\"\"\u001b[39;00m\n\u001b[0;32m-> 2425\u001b[0m     \u001b[38;5;28;43mself\u001b[39;49m\u001b[38;5;241;43m.\u001b[39;49m\u001b[43mtk\u001b[49m\u001b[38;5;241;43m.\u001b[39;49m\u001b[43mcall\u001b[49m\u001b[43m(\u001b[49m\n\u001b[1;32m   2426\u001b[0m \u001b[43m          \u001b[49m\u001b[43m(\u001b[49m\u001b[38;5;124;43m'\u001b[39;49m\u001b[38;5;124;43mpack\u001b[39;49m\u001b[38;5;124;43m'\u001b[39;49m\u001b[43m,\u001b[49m\u001b[43m \u001b[49m\u001b[38;5;124;43m'\u001b[39;49m\u001b[38;5;124;43mconfigure\u001b[39;49m\u001b[38;5;124;43m'\u001b[39;49m\u001b[43m,\u001b[49m\u001b[43m \u001b[49m\u001b[38;5;28;43mself\u001b[39;49m\u001b[38;5;241;43m.\u001b[39;49m\u001b[43m_w\u001b[49m\u001b[43m)\u001b[49m\n\u001b[1;32m   2427\u001b[0m \u001b[43m          \u001b[49m\u001b[38;5;241;43m+\u001b[39;49m\u001b[43m \u001b[49m\u001b[38;5;28;43mself\u001b[39;49m\u001b[38;5;241;43m.\u001b[39;49m\u001b[43m_options\u001b[49m\u001b[43m(\u001b[49m\u001b[43mcnf\u001b[49m\u001b[43m,\u001b[49m\u001b[43m \u001b[49m\u001b[43mkw\u001b[49m\u001b[43m)\u001b[49m\u001b[43m)\u001b[49m\n",
      "\u001b[0;31mTclError\u001b[0m: cannot use geometry manager pack inside . which already has slaves managed by grid"
     ]
    }
   ],
   "source": [
    "from tkinter import *\n",
    "import imageio\n",
    "from PIL import Image, ImageTk\n",
    "def stream():\n",
    "    try:\n",
    "        image = video.get_next_data()\n",
    "        frame_image = Image.fromarray(image)\n",
    "        frame_image=ImageTk.PhotoImage(frame_image)\n",
    "        l1.config(image=frame_image)\n",
    "        l1.image = frame_image\n",
    "        l1.after(delay, lambda: stream())\n",
    "    except:\n",
    "        video.close()\n",
    "        return   \n",
    "########### Main Program ############\n",
    "root = Tk()\n",
    "root.title('Video in a Frame')\n",
    "f1=Frame()\n",
    "l1 = Label(f1)\n",
    "l1.pack()\n",
    "f1.pack()\n",
    "video_name = \"Futurama.mkv\"   #Image-path\n",
    "video = imageio.get_reader(video_name)\n",
    "delay = int(1000 / video.get_meta_data()['fps'])\n",
    "stream()\n",
    "root.mainloop()"
   ]
  },
  {
   "cell_type": "code",
   "execution_count": 27,
   "id": "abe643fb",
   "metadata": {},
   "outputs": [],
   "source": [
    "import PIL"
   ]
  },
  {
   "cell_type": "code",
   "execution_count": null,
   "id": "aaf389e1",
   "metadata": {},
   "outputs": [],
   "source": [
    "np."
   ]
  },
  {
   "cell_type": "code",
   "execution_count": null,
   "id": "f32b32e6",
   "metadata": {},
   "outputs": [],
   "source": [
    "PIL.Image.fromarray(frame)"
   ]
  },
  {
   "cell_type": "code",
   "execution_count": null,
   "id": "bd8c2e76",
   "metadata": {},
   "outputs": [],
   "source": [
    "PIL.ImageTk.PhotoImage(image=PIL.Image.fromarray(frame))"
   ]
  }
 ],
 "metadata": {
  "kernelspec": {
   "display_name": "flir_acq",
   "language": "python",
   "name": "flir_acq"
  },
  "language_info": {
   "codemirror_mode": {
    "name": "ipython",
    "version": 3
   },
   "file_extension": ".py",
   "mimetype": "text/x-python",
   "name": "python",
   "nbconvert_exporter": "python",
   "pygments_lexer": "ipython3",
   "version": "3.10.8"
  }
 },
 "nbformat": 4,
 "nbformat_minor": 5
}
