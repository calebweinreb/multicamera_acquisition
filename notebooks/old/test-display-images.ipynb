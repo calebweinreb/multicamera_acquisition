{
 "cells": [
  {
   "cell_type": "code",
   "execution_count": 5,
   "id": "9ac584b1",
   "metadata": {},
   "outputs": [],
   "source": [
    "import cv2\n",
    "import numpy as np"
   ]
  },
  {
   "cell_type": "code",
   "execution_count": 6,
   "id": "cc38644e",
   "metadata": {},
   "outputs": [],
   "source": [
    "image_shape = (50,50)"
   ]
  },
  {
   "cell_type": "code",
   "execution_count": 12,
   "id": "a56b7607",
   "metadata": {},
   "outputs": [],
   "source": [
    "data = (np.random.rand(50,50,3))\n",
    "data2 = (np.random.rand(50,50,3))"
   ]
  },
  {
   "cell_type": "code",
   "execution_count": 13,
   "id": "92b2e7ce",
   "metadata": {},
   "outputs": [],
   "source": [
    "cv2.imshow(\"test\",data)"
   ]
  },
  {
   "cell_type": "code",
   "execution_count": 15,
   "id": "78461fe9",
   "metadata": {},
   "outputs": [],
   "source": [
    "cv2.imshow(\"2\",data2);"
   ]
  },
  {
   "cell_type": "code",
   "execution_count": 16,
   "id": "ba663da2",
   "metadata": {},
   "outputs": [
    {
     "data": {
      "text/plain": [
       "32"
      ]
     },
     "execution_count": 16,
     "metadata": {},
     "output_type": "execute_result"
    }
   ],
   "source": [
    "cv2.waitKey(0)"
   ]
  },
  {
   "cell_type": "code",
   "execution_count": 17,
   "id": "b8ef9567",
   "metadata": {},
   "outputs": [],
   "source": [
    "cv2.destroyAllWindows()"
   ]
  },
  {
   "cell_type": "code",
   "execution_count": null,
   "id": "b681118f",
   "metadata": {},
   "outputs": [],
   "source": [
    "data = (np.random.rand(50,50,3))\n",
    "\n",
    "cv2.imshow(\"test\",data)"
   ]
  }
 ],
 "metadata": {
  "kernelspec": {
   "display_name": "flir_acq",
   "language": "python",
   "name": "flir_acq"
  },
  "language_info": {
   "codemirror_mode": {
    "name": "ipython",
    "version": 3
   },
   "file_extension": ".py",
   "mimetype": "text/x-python",
   "name": "python",
   "nbconvert_exporter": "python",
   "pygments_lexer": "ipython3",
   "version": "3.10.8"
  }
 },
 "nbformat": 4,
 "nbformat_minor": 5
}
