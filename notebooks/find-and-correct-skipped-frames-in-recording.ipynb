{
 "cells": [
  {
   "cell_type": "markdown",
   "id": "47090228",
   "metadata": {},
   "source": [
    "### Given a recording, find any frames that have been skipped "
   ]
  },
  {
   "cell_type": "markdown",
   "id": "e386374e",
   "metadata": {},
   "source": [
    "- there are two types of dropped frames (1) frames that are correctly skipped in `frame_id` and (2) frames that are not correctly skipped in `frame_id`"
   ]
  },
  {
   "cell_type": "code",
   "execution_count": 19,
   "id": "398fd90b",
   "metadata": {},
   "outputs": [],
   "source": [
    "import pandas as pd\n",
    "import matplotlib.pyplot as plt\n",
    "import numpy as np"
   ]
  },
  {
   "cell_type": "code",
   "execution_count": 20,
   "id": "b94b9231",
   "metadata": {},
   "outputs": [],
   "source": [
    "metadata_file = 'example_csvs/example.flir.metadata.csv'"
   ]
  },
  {
   "cell_type": "code",
   "execution_count": 21,
   "id": "c3b08853",
   "metadata": {},
   "outputs": [],
   "source": [
    "metadata_df = pd.read_csv(metadata_file)"
   ]
  },
  {
   "cell_type": "code",
   "execution_count": 22,
   "id": "4b305c0a",
   "metadata": {},
   "outputs": [
    {
     "data": {
      "text/html": [
       "<div>\n",
       "<style scoped>\n",
       "    .dataframe tbody tr th:only-of-type {\n",
       "        vertical-align: middle;\n",
       "    }\n",
       "\n",
       "    .dataframe tbody tr th {\n",
       "        vertical-align: top;\n",
       "    }\n",
       "\n",
       "    .dataframe thead th {\n",
       "        text-align: right;\n",
       "    }\n",
       "</style>\n",
       "<table border=\"1\" class=\"dataframe\">\n",
       "  <thead>\n",
       "    <tr style=\"text-align: right;\">\n",
       "      <th></th>\n",
       "      <th>frame_id</th>\n",
       "      <th>frame_timestamp</th>\n",
       "      <th>frame_image_uid</th>\n",
       "    </tr>\n",
       "  </thead>\n",
       "  <tbody>\n",
       "    <tr>\n",
       "      <th>0</th>\n",
       "      <td>1</td>\n",
       "      <td>3603480856728</td>\n",
       "      <td>1.673547e+09</td>\n",
       "    </tr>\n",
       "    <tr>\n",
       "      <th>1</th>\n",
       "      <td>2</td>\n",
       "      <td>3603514161960</td>\n",
       "      <td>1.673547e+09</td>\n",
       "    </tr>\n",
       "    <tr>\n",
       "      <th>2</th>\n",
       "      <td>3</td>\n",
       "      <td>3603547468960</td>\n",
       "      <td>1.673547e+09</td>\n",
       "    </tr>\n",
       "  </tbody>\n",
       "</table>\n",
       "</div>"
      ],
      "text/plain": [
       "   frame_id  frame_timestamp  frame_image_uid\n",
       "0         1    3603480856728     1.673547e+09\n",
       "1         2    3603514161960     1.673547e+09\n",
       "2         3    3603547468960     1.673547e+09"
      ]
     },
     "execution_count": 22,
     "metadata": {},
     "output_type": "execute_result"
    }
   ],
   "source": [
    "metadata_df[:3]"
   ]
  },
  {
   "cell_type": "markdown",
   "id": "289514c9",
   "metadata": {},
   "source": [
    "### Make a corrupted dataframe\n",
    "- the example dataframe has no dropped frames, so we can make an example corrupted dataframe"
   ]
  },
  {
   "cell_type": "code",
   "execution_count": 23,
   "id": "43f63c90",
   "metadata": {},
   "outputs": [],
   "source": [
    "# rows 46 and 51 will have dropped frames which are not correctly labeled as dropped, whereas 24 and 100 are \n",
    "corrupted_metadata_df = metadata_df.drop([46, 51,52])\n",
    "corrupted_metadata_df['frame_id'] = np.arange(len(corrupted_metadata_df.values))+1\n",
    "corrupted_metadata_df = corrupted_metadata_df.drop([24, 100])\n",
    "corrupted_metadata_df.to_csv(\n",
    "    \"example_csvs/example.corrupted.flir.metadata.csv\", index=False\n",
    ")"
   ]
  },
  {
   "cell_type": "markdown",
   "id": "274835e5",
   "metadata": {},
   "source": [
    "### Correct the dataframe"
   ]
  },
  {
   "cell_type": "code",
   "execution_count": 24,
   "id": "b8048f5a",
   "metadata": {},
   "outputs": [],
   "source": [
    "corrupted_metadata_df = pd.read_csv(\"example_csvs/example.corrupted.flir.metadata.csv\")"
   ]
  },
  {
   "cell_type": "code",
   "execution_count": 25,
   "id": "03fa2113",
   "metadata": {},
   "outputs": [],
   "source": [
    "from pathlib2 import Path\n",
    "def correct_corrupted_metadata(csv_loc, framerate = 30, save_result = True, save_prefix = 'corrected.'):\n",
    "    # load data\n",
    "    csv_loc = Path(csv_loc)\n",
    "    corrupted_metadata_df = pd.read_csv(csv_loc)\n",
    "    # compute the skipped frames\n",
    "    skipped_frames = np.diff(corrupted_metadata_df.frame_id.values)\n",
    "    \n",
    "    print('Dataset contains {} known skipped frames'.format(np.sum(skipped_frames -1)))\n",
    "    \n",
    "    # compute the expected delta between frames\n",
    "    expected_delta_between_frames_s = 1/framerate\n",
    "    expected_delta_between_frames_ns = expected_delta_between_frames_s * 1e9\n",
    "    # compute the actual delta between frames \n",
    "    framerate_delta = np.diff(corrupted_metadata_df.frame_timestamp.values) / expected_delta_between_frames_ns\n",
    "    # compute the actual delta between frames relative to the expected delta\n",
    "    frames_offset = np.round(framerate_delta - skipped_frames).astype(int)\n",
    "    n_errors = np.sum(frames_offset > 0)\n",
    "    if n_errors > 0: \n",
    "        print(\n",
    "            \"Found {} additional skipped frames. Correcting.\".format(n_errors)\n",
    "        )\n",
    "        # fix the frame numbers\n",
    "        corrupted_metadata_df[\"frame_id\"] = corrupted_metadata_df[\"frame_id\"]\n",
    "        corrupted_metadata_df[\"frame_id\"] = [1] + list(\n",
    "            corrupted_metadata_df.frame_id[1:].values + np.cumsum(frames_offset)\n",
    "        )\n",
    "        if save_result:\n",
    "            save_loc = Path(csv_loc).parent / (save_prefix + Path(csv_loc).name)\n",
    "            corrupted_metadata_df.to_csv(\n",
    "                save_loc, index=False\n",
    "            )\n",
    "        else:\n",
    "            return corrupted_metadata_df\n",
    "    else:\n",
    "        print('No additional errors found.')"
   ]
  },
  {
   "cell_type": "code",
   "execution_count": 27,
   "id": "1b8d4a4b",
   "metadata": {},
   "outputs": [
    {
     "name": "stdout",
     "output_type": "stream",
     "text": [
      "Dataset contains 2 known skipped frames\n",
      "Found 2 additional skipped frames. Correcting.\n"
     ]
    }
   ],
   "source": [
    "correct_corrupted_metadata(\"example_csvs/example.corrupted.flir.metadata.csv\")"
   ]
  },
  {
   "cell_type": "code",
   "execution_count": 28,
   "id": "fd3352fd",
   "metadata": {},
   "outputs": [
    {
     "name": "stdout",
     "output_type": "stream",
     "text": [
      "Dataset contains 5 known skipped frames\n",
      "No additional errors found.\n"
     ]
    }
   ],
   "source": [
    "correct_corrupted_metadata(\"example_csvs/corrected.example.corrupted.flir.metadata.csv\")"
   ]
  }
 ],
 "metadata": {
  "kernelspec": {
   "display_name": "flir_acq",
   "language": "python",
   "name": "flir_acq"
  },
  "language_info": {
   "codemirror_mode": {
    "name": "ipython",
    "version": 3
   },
   "file_extension": ".py",
   "mimetype": "text/x-python",
   "name": "python",
   "nbconvert_exporter": "python",
   "pygments_lexer": "ipython3",
   "version": "3.10.8"
  }
 },
 "nbformat": 4,
 "nbformat_minor": 5
}
