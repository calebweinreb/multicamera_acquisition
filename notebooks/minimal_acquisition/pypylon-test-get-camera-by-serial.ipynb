{
 "cells": [
  {
   "cell_type": "code",
   "execution_count": 1,
   "id": "d009adc5",
   "metadata": {},
   "outputs": [],
   "source": [
    "import pypylon.pylon as py"
   ]
  },
  {
   "cell_type": "code",
   "execution_count": 2,
   "id": "66e1e50b",
   "metadata": {},
   "outputs": [],
   "source": [
    "from pypylon import pylon"
   ]
  },
  {
   "cell_type": "code",
   "execution_count": 3,
   "id": "87305cce",
   "metadata": {},
   "outputs": [],
   "source": [
    "camera_serials = [24535665, 24548223]"
   ]
  },
  {
   "cell_type": "code",
   "execution_count": 4,
   "id": "bb363d28",
   "metadata": {},
   "outputs": [],
   "source": [
    "NUM_CAMERAS = 2"
   ]
  },
  {
   "cell_type": "code",
   "execution_count": 5,
   "id": "3391b85d",
   "metadata": {},
   "outputs": [],
   "source": [
    "tlf = py.TlFactory.GetInstance()"
   ]
  },
  {
   "cell_type": "code",
   "execution_count": 6,
   "id": "509ab0dc",
   "metadata": {},
   "outputs": [],
   "source": [
    "# create a device filter for Pylon CamEmu devices\n",
    "di = py.DeviceInfo()"
   ]
  },
  {
   "cell_type": "code",
   "execution_count": 7,
   "id": "3fbbafbe",
   "metadata": {},
   "outputs": [
    {
     "data": {
      "text/plain": [
       "<pypylon.pylon.DeviceInfo; proxy of <Swig Object of type 'Pylon::CDeviceInfo *' at 0x7f52d3709e00> >"
      ]
     },
     "execution_count": 7,
     "metadata": {},
     "output_type": "execute_result"
    }
   ],
   "source": [
    "di"
   ]
  },
  {
   "cell_type": "code",
   "execution_count": 8,
   "id": "6ce03964",
   "metadata": {},
   "outputs": [],
   "source": [
    "devs = tlf.EnumerateDevices([di,])"
   ]
  },
  {
   "cell_type": "code",
   "execution_count": 9,
   "id": "4c9d4b45",
   "metadata": {},
   "outputs": [
    {
     "data": {
      "text/plain": [
       "(<pypylon.pylon.DeviceInfo; proxy of <Swig Object of type 'Pylon::CDeviceInfo *' at 0x7f52d3709ec0> >,\n",
       " <pypylon.pylon.DeviceInfo; proxy of <Swig Object of type 'Pylon::CDeviceInfo *' at 0x7f52d3709fb0> >)"
      ]
     },
     "execution_count": 9,
     "metadata": {},
     "output_type": "execute_result"
    }
   ],
   "source": [
    "devs"
   ]
  },
  {
   "cell_type": "code",
   "execution_count": 10,
   "id": "3686e72f",
   "metadata": {},
   "outputs": [
    {
     "data": {
      "text/plain": [
       "'24535665'"
      ]
     },
     "execution_count": 10,
     "metadata": {},
     "output_type": "execute_result"
    }
   ],
   "source": [
    "devs[0].GetSerialNumber()"
   ]
  },
  {
   "cell_type": "code",
   "execution_count": 11,
   "id": "4f1042b9",
   "metadata": {},
   "outputs": [],
   "source": [
    "camera = py.InstantCamera(tlf.CreateDevice(devs[0]))"
   ]
  },
  {
   "cell_type": "code",
   "execution_count": 12,
   "id": "bfd1fc0c",
   "metadata": {},
   "outputs": [],
   "source": [
    "camera.Open()"
   ]
  },
  {
   "cell_type": "code",
   "execution_count": 13,
   "id": "7323bcd1",
   "metadata": {},
   "outputs": [],
   "source": [
    "# demonstrate some feature accessdi.SetSerialNumber(\"2134234\")\n",
    "new_width = camera.Width.GetValue() - camera.Width.GetInc()\n",
    "if new_width >= camera.Width.GetMin():\n",
    "    camera.Width.SetValue(new_width)"
   ]
  },
  {
   "cell_type": "code",
   "execution_count": 14,
   "id": "e004a490",
   "metadata": {},
   "outputs": [],
   "source": [
    "??camera.StartGrabbing"
   ]
  },
  {
   "cell_type": "code",
   "execution_count": 15,
   "id": "f14e5e40",
   "metadata": {},
   "outputs": [],
   "source": [
    "??camera.StartGrabbingMax"
   ]
  },
  {
   "cell_type": "code",
   "execution_count": 16,
   "id": "31f39dac",
   "metadata": {},
   "outputs": [],
   "source": [
    "numberOfImagesToGrab = 5\n",
    "camera.StartGrabbingMax(numberOfImagesToGrab)"
   ]
  },
  {
   "cell_type": "code",
   "execution_count": 17,
   "id": "a7e31d39",
   "metadata": {},
   "outputs": [],
   "source": [
    "??camera.RetrieveResult"
   ]
  },
  {
   "cell_type": "code",
   "execution_count": 18,
   "id": "fd405c4b",
   "metadata": {},
   "outputs": [
    {
     "data": {
      "text/plain": [
       "True"
      ]
     },
     "execution_count": 18,
     "metadata": {},
     "output_type": "execute_result"
    }
   ],
   "source": [
    "camera.IsGrabbing()"
   ]
  },
  {
   "cell_type": "code",
   "execution_count": 23,
   "id": "c7637e87",
   "metadata": {},
   "outputs": [],
   "source": [
    "??camera.RetrieveResult"
   ]
  },
  {
   "cell_type": "code",
   "execution_count": 19,
   "id": "bc41623a",
   "metadata": {
    "scrolled": true
   },
   "outputs": [
    {
     "name": "stdout",
     "output_type": "stream",
     "text": [
      "SizeX:  960\n",
      "SizeY:  1024\n",
      "6122839540383\n",
      "Gray value of first pixel:  2\n",
      "SizeX:  960\n",
      "SizeY:  1024\n",
      "6122844590841\n",
      "Gray value of first pixel:  3\n",
      "SizeX:  960\n",
      "SizeY:  1024\n",
      "6122849641299\n",
      "Gray value of first pixel:  2\n",
      "SizeX:  960\n",
      "SizeY:  1024\n",
      "6122854691757\n",
      "Gray value of first pixel:  2\n",
      "SizeX:  960\n",
      "SizeY:  1024\n",
      "6122859742215\n",
      "Gray value of first pixel:  2\n"
     ]
    }
   ],
   "source": [
    "while camera.IsGrabbing():\n",
    "    grabResult = camera.RetrieveResult(5000, pylon.TimeoutHandling_ThrowException)\n",
    "\n",
    "    if grabResult.GrabSucceeded():\n",
    "        # Access the image data.\n",
    "        print(\"SizeX: \", grabResult.Width)\n",
    "        print(\"SizeY: \", grabResult.Height)\n",
    "        img = grabResult.Array\n",
    "        print(grabResult.TimeStamp)\n",
    "        print(\"Gray value of first pixel: \", img[0, 0])\n",
    "\n",
    "    grabResult.Release()\n",
    "camera.Close()"
   ]
  },
  {
   "cell_type": "code",
   "execution_count": 24,
   "id": "c75d08b2",
   "metadata": {},
   "outputs": [
    {
     "data": {
      "text/plain": [
       "array([[2, 2, 2, ..., 3, 3, 3],\n",
       "       [2, 2, 2, ..., 3, 2, 3],\n",
       "       [2, 2, 2, ..., 2, 3, 3],\n",
       "       ...,\n",
       "       [1, 1, 0, ..., 2, 2, 3],\n",
       "       [1, 0, 1, ..., 2, 2, 2],\n",
       "       [1, 1, 1, ..., 2, 2, 1]], dtype=uint8)"
      ]
     },
     "execution_count": 24,
     "metadata": {},
     "output_type": "execute_result"
    }
   ],
   "source": [
    "img"
   ]
  },
  {
   "cell_type": "code",
   "execution_count": 20,
   "id": "8aca5014",
   "metadata": {},
   "outputs": [],
   "source": [
    "import matplotlib.pyplot as plt"
   ]
  },
  {
   "cell_type": "code",
   "execution_count": 21,
   "id": "39771ba4",
   "metadata": {},
   "outputs": [
    {
     "data": {
      "text/plain": [
       "<matplotlib.image.AxesImage at 0x7f5270fc3d30>"
      ]
     },
     "execution_count": 21,
     "metadata": {},
     "output_type": "execute_result"
    },
    {
     "data": {
      "image/png": "[encoded data removed]",
      "text/plain": [
       "<Figure size 640x480 with 1 Axes>"
      ]
     },
     "metadata": {},
     "output_type": "display_data"
    }
   ],
   "source": [
    "plt.imshow(img, cmap = plt.cm.Greys_r)"
   ]
  },
  {
   "cell_type": "code",
   "execution_count": 22,
   "id": "e4d529c0",
   "metadata": {},
   "outputs": [],
   "source": [
    "camera.Close()"
   ]
  },
  {
   "cell_type": "code",
   "execution_count": null,
   "id": "e1259440",
   "metadata": {},
   "outputs": [],
   "source": []
  }
 ],
 "metadata": {
  "kernelspec": {
   "display_name": "flir_acq",
   "language": "python",
   "name": "flir_acq"
  },
  "language_info": {
   "codemirror_mode": {
    "name": "ipython",
    "version": 3
   },
   "file_extension": ".py",
   "mimetype": "text/x-python",
   "name": "python",
   "nbconvert_exporter": "python",
   "pygments_lexer": "ipython3",
   "version": "3.10.8"
  }
 },
 "nbformat": 4,
 "nbformat_minor": 5
}
