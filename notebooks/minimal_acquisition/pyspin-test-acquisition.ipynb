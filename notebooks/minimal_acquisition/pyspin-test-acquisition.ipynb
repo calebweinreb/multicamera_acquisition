{
 "cells": [
  {
   "cell_type": "code",
   "execution_count": 1,
   "id": "7bfe4330",
   "metadata": {},
   "outputs": [],
   "source": [
    "# http://justinblaber.org/acquiring-stereo-images-with-spinnaker-api-hardware-trigger/"
   ]
  },
  {
   "cell_type": "code",
   "execution_count": 2,
   "id": "f3d81626",
   "metadata": {},
   "outputs": [],
   "source": [
    "import PySpin"
   ]
  },
  {
   "cell_type": "code",
   "execution_count": 3,
   "id": "c158e6c0",
   "metadata": {},
   "outputs": [],
   "source": [
    "# Set camera serial numbers\n",
    "\n",
    "camera_serials = [22181547,22181612]\n",
    "serial_1 = str(camera_serials[0])\n",
    "serial_2 = str(camera_serials[1])"
   ]
  },
  {
   "cell_type": "code",
   "execution_count": 4,
   "id": "5bb5eac9",
   "metadata": {},
   "outputs": [],
   "source": [
    "# Get system\n",
    "system = PySpin.System.GetInstance()"
   ]
  },
  {
   "cell_type": "code",
   "execution_count": 5,
   "id": "018ea0a9",
   "metadata": {},
   "outputs": [
    {
     "data": {
      "text/plain": [
       "2"
      ]
     },
     "execution_count": 5,
     "metadata": {},
     "output_type": "execute_result"
    }
   ],
   "source": [
    "# Get camera list\n",
    "cam_list = system.GetCameras()\n",
    "len(cam_list)"
   ]
  },
  {
   "cell_type": "code",
   "execution_count": 6,
   "id": "209557da",
   "metadata": {},
   "outputs": [],
   "source": [
    "# Get cameras by serial\n",
    "cam_1 = cam_list.GetBySerial(serial_1)\n",
    "cam_2 = cam_list.GetBySerial(serial_2)"
   ]
  },
  {
   "cell_type": "code",
   "execution_count": 7,
   "id": "9dbcbf6a",
   "metadata": {},
   "outputs": [],
   "source": [
    "# Initialize cameras\n",
    "cam_1.Init()\n",
    "cam_2.Init()"
   ]
  },
  {
   "cell_type": "code",
   "execution_count": 8,
   "id": "12d9a6da",
   "metadata": {},
   "outputs": [],
   "source": [
    "# Set up primary camera trigger\n",
    "cam_1.LineSelector.SetValue(PySpin.LineSelector_Line2)\n",
    "cam_1.V3_3Enable.SetValue(True)"
   ]
  },
  {
   "cell_type": "code",
   "execution_count": 9,
   "id": "47d3bd68",
   "metadata": {},
   "outputs": [],
   "source": [
    "# Set up primary camera trigger\n",
    "cam_2.LineSelector.SetValue(PySpin.LineSelector_Line2)\n",
    "cam_2.V3_3Enable.SetValue(True)"
   ]
  },
  {
   "cell_type": "code",
   "execution_count": 10,
   "id": "e988fe72",
   "metadata": {},
   "outputs": [],
   "source": [
    "# Set acquisition mode to acquire a single frame, this ensures acquired images are sync'd since camera 2 and 3 are setup to be triggered\n",
    "cam_1.AcquisitionMode.SetValue(PySpin.AcquisitionMode_SingleFrame)\n",
    "cam_2.AcquisitionMode.SetValue(PySpin.AcquisitionMode_SingleFrame)"
   ]
  },
  {
   "cell_type": "code",
   "execution_count": 11,
   "id": "f5ffab9e",
   "metadata": {},
   "outputs": [],
   "source": [
    "# Start acquisition; note that secondary cameras have to be started first so acquisition of primary camera triggers secondary cameras.\n",
    "cam_1.BeginAcquisition()\n",
    "cam_2.BeginAcquisition()"
   ]
  },
  {
   "cell_type": "code",
   "execution_count": 12,
   "id": "3bf1dae5",
   "metadata": {},
   "outputs": [],
   "source": [
    "# Acquire images\n",
    "image_1 = cam_1.GetNextImage()\n",
    "image_2 = cam_2.GetNextImage()"
   ]
  },
  {
   "cell_type": "code",
   "execution_count": 14,
   "id": "786077c9",
   "metadata": {},
   "outputs": [],
   "source": [
    "# Save images\n",
    "image_1.Save('cam_1.png')\n",
    "image_2.Save('cam_2.png')"
   ]
  },
  {
   "cell_type": "code",
   "execution_count": 15,
   "id": "d293f3d5",
   "metadata": {},
   "outputs": [],
   "source": [
    "# Release images\n",
    "image_1.Release()\n",
    "image_2.Release()"
   ]
  },
  {
   "cell_type": "code",
   "execution_count": 16,
   "id": "f5dc614d",
   "metadata": {},
   "outputs": [],
   "source": [
    "# end acquisition\n",
    "cam_1.EndAcquisition()\n",
    "cam_2.EndAcquisition()"
   ]
  },
  {
   "cell_type": "code",
   "execution_count": null,
   "id": "29b4401c",
   "metadata": {},
   "outputs": [],
   "source": []
  },
  {
   "cell_type": "markdown",
   "id": "c4efec93",
   "metadata": {},
   "source": [
    "- start acquisition\n",
    "- for each camera, "
   ]
  }
 ],
 "metadata": {
  "kernelspec": {
   "display_name": "flir_acq",
   "language": "python",
   "name": "flir_acq"
  },
  "language_info": {
   "codemirror_mode": {
    "name": "ipython",
    "version": 3
   },
   "file_extension": ".py",
   "mimetype": "text/x-python",
   "name": "python",
   "nbconvert_exporter": "python",
   "pygments_lexer": "ipython3",
   "version": "3.10.8"
  }
 },
 "nbformat": 4,
 "nbformat_minor": 5
}
